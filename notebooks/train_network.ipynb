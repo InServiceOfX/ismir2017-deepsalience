{
 "cells": [
  {
   "cell_type": "code",
   "execution_count": 29,
   "metadata": {
    "collapsed": false
   },
   "outputs": [],
   "source": [
    "from __future__ import print_function\n",
    "import numpy as np\n",
    "np.random.seed(1337)  # for reproducibility\n",
    "\n",
    "RANDOM_STATE = 42\n",
    "\n",
    "from keras.datasets import mnist\n",
    "from keras.models import Sequential, Model\n",
    "from keras.layers import Dense, Dropout, Activation, Flatten, Input, Reshape\n",
    "from keras.layers import Conv2D, Convolution3D, MaxPooling2D\n",
    "from keras.utils import np_utils\n",
    "from keras import backend as K\n",
    "import pescador\n",
    "\n",
    "%matplotlib inline\n",
    "import matplotlib.pyplot as plt\n",
    "\n",
    "import glob\n",
    "import keras\n",
    "import medleydb as mdb\n",
    "from medleydb import utils\n",
    "import numpy as np\n",
    "import os\n",
    "import pescador"
   ]
  },
  {
   "cell_type": "code",
   "execution_count": 38,
   "metadata": {
    "collapsed": false
   },
   "outputs": [],
   "source": [
    "def keras_generator(data_list, input_patch_size,\n",
    "                    output_patch_size,\n",
    "                    with_replacement=True,\n",
    "                    batch_size=1024):\n",
    "    streams = []\n",
    "    for fpath in data_list:\n",
    "        streams.append(\n",
    "            pescador.Streamer(\n",
    "                patch_generator, fpath,\n",
    "                input_patch_size=input_patch_size,\n",
    "                output_patch_size=output_patch_size\n",
    "            )\n",
    "        )\n",
    "\n",
    "    stream_mux = pescador.Mux(\n",
    "        streams, 3, with_replacement=with_replacement, lam=1000\n",
    "    )\n",
    "\n",
    "    buffered_streamer = pescador.BufferedStreamer(stream_mux, batch_size)\n",
    "#     batch_generator = pescador.buffer_batch(stream_mux.generate(), batch_size)\n",
    "\n",
    "    return buffered_streamer\n",
    "#     for batch in buffered_streamer:\n",
    "#         yield (batch['X'], batch['Y'])\n",
    "\n",
    "\n",
    "def __grab_patch_output(f, t, n_f, n_t, y_data):\n",
    "    return y_data[f: f + n_f, t: t + n_t][np.newaxis, :, :]\n",
    "\n",
    "\n",
    "def __grab_patch_input(f, t, n_f, n_t, n_harms, x_data):\n",
    "    return np.transpose(\n",
    "        x_data[:, f: f + n_f, t: t + n_t], (1, 2, 0)\n",
    "    )[np.newaxis, :, :, :]\n",
    "\n",
    "\n",
    "def patch_generator(fpath, input_patch_size, output_patch_size):\n",
    "    data = np.load(fpath, mmap_mode='r')\n",
    "\n",
    "    n_harms, n_freqs, n_times = data['data_in'].shape\n",
    "    n_f_in, n_t_in = input_patch_size\n",
    "    n_f_out, n_t_out = output_patch_size\n",
    "\n",
    "    f_shift = n_f_in - n_f_out\n",
    "    t_shift = n_t_in - n_t_out\n",
    "    \n",
    "    while True:\n",
    "        f = np.random.randint(0, n_freqs - n_f_in)\n",
    "        t = np.random.randint(0, n_times - n_t_in)\n",
    "\n",
    "        x = __grab_patch_input(\n",
    "            f, t, n_f_in, n_t_in, n_harms, data['data_in']\n",
    "        )\n",
    "        y = __grab_patch_output(\n",
    "            f + f_shift, t + t_shift, n_f_out, n_t_out, data['data_out']\n",
    "        )\n",
    "        yield (x, y)\n",
    "#         yield dict(X=x, Y=y)\n",
    "\n",
    "\n",
    "def stride_tf(fpath, input_patch_size, output_patch_size):\n",
    "    data = np.load(fpath, mmap_mode='r')\n",
    "    n_harms, n_freqs, n_times = data['data_in'].shape\n",
    "\n",
    "    n_f_in, n_t_in = input_patch_size\n",
    "    n_f_out, n_t_out = output_patch_size\n",
    "\n",
    "    f_shift = n_f_in - n_f_out\n",
    "    t_shift = n_t_in - n_t_out\n",
    "\n",
    "    f_indices = np.arange(0, n_freqs - n_f, n_f)\n",
    "    t_indices = np.arange(0, n_times - n_t, n_t)\n",
    "\n",
    "    for f in f_indices:\n",
    "        for t in t_indices:\n",
    "            x = __grab_patch_input(\n",
    "                f, t, n_f_in, n_t_in, n_harms, data['data_in']\n",
    "            )\n",
    "            y = __grab_patch_output(\n",
    "                f + f_shift, t + t_shift, n_f_out, n_t_out, data['data_out']\n",
    "            )\n",
    "            yield dict(X=x, Y=y, t=t, f=f)\n",
    "\n",
    "\n",
    "def get_file_paths(mtrack_list, data_path):\n",
    "    file_paths = []\n",
    "    for track_id in mtrack_list:\n",
    "        file_paths.extend(\n",
    "            glob.glob(os.path.join(data_path, \"{}*.npz\".format(track_id)))\n",
    "        )\n",
    "    return file_paths"
   ]
  },
  {
   "cell_type": "code",
   "execution_count": 31,
   "metadata": {
    "collapsed": true
   },
   "outputs": [],
   "source": [
    "class Data(object):\n",
    "\n",
    "    def __init__(self, mtrack_list, data_path, input_patch_size=(26, 26),\n",
    "                 output_patch_size=(20, 20),\n",
    "                 batch_size=1024):\n",
    "\n",
    "        self.mtrack_list = mtrack_list\n",
    "        self.input_patch_size = input_patch_size\n",
    "        self.output_patch_size = output_patch_size\n",
    "        self.batch_size = batch_size\n",
    "\n",
    "        self.data_path = data_path\n",
    "        \n",
    "        (self.train_set,\n",
    "         self.validation_set,\n",
    "         self.test_set) = self._train_val_test_split()\n",
    "\n",
    "        self.train_files = get_file_paths(self.train_set, self.data_path)\n",
    "        self.validation_files = get_file_paths(\n",
    "            self.validation_set, self.data_path\n",
    "        )\n",
    "        self.test_files = get_file_paths(self.test_set, self.data_path)\n",
    "\n",
    "    def _train_val_test_split(self):\n",
    "        full_list = []\n",
    "        print(len(self.mtrack_list))\n",
    "        for m in self.mtrack_list:\n",
    "            globbed = get_file_paths([m], self.data_path)\n",
    "            if len(globbed) > 0:\n",
    "                full_list.append(m)\n",
    "\n",
    "        self.full_list = full_list\n",
    "        print(len(full_list))\n",
    "        mtracks = list(mdb.load_multitracks(full_list))\n",
    "        test_potentials = [\n",
    "            m.track_id for m in mtracks if m.dataset_version == 'V1'\n",
    "        ]\n",
    "        all_others = [\n",
    "            m.track_id for m in mtracks if m.dataset_version != 'V1'\n",
    "        ]\n",
    "\n",
    "        split1 = utils.artist_conditional_split(\n",
    "            trackid_list=test_potentials, test_size=0.2,\n",
    "            num_splits=1, random_state=RANDOM_STATE\n",
    "        )\n",
    "\n",
    "        test_set = split1[0]['test']\n",
    "        remaining_tracks = split1[0]['train'] + all_others\n",
    "\n",
    "        split2 = utils.artist_conditional_split(\n",
    "            trackid_list=remaining_tracks, test_size=0.15,\n",
    "            num_splits=1, random_state=RANDOM_STATE\n",
    "        )\n",
    "\n",
    "        train_set = split2[0]['train']\n",
    "        validation_set = split2[0]['test']\n",
    "\n",
    "        return train_set, validation_set, test_set\n",
    "\n",
    "    def get_train_generator(self):\n",
    "        return keras_generator(\n",
    "            self.train_files,\n",
    "            input_patch_size=self.input_patch_size,\n",
    "            output_patch_size=self.output_patch_size,\n",
    "            batch_size=self.batch_size\n",
    "        )\n",
    "\n",
    "    def get_validation_generator(self):\n",
    "        return keras_generator(\n",
    "            self.validation_files,\n",
    "            input_patch_size=self.input_patch_size,\n",
    "            output_patch_size=self.output_patch_size,\n",
    "            batch_size=self.batch_size\n",
    "        )\n",
    "\n",
    "    def get_test_generator(self):\n",
    "        return keras_generator(\n",
    "            self.test_files,\n",
    "            input_patch_size=self.input_patch_size,\n",
    "            output_patch_size=self.output_patch_size,\n",
    "            batch_size=self.batch_size\n",
    "        )"
   ]
  },
  {
   "cell_type": "markdown",
   "metadata": {},
   "source": [
    "# load data"
   ]
  },
  {
   "cell_type": "code",
   "execution_count": 40,
   "metadata": {
    "collapsed": false
   },
   "outputs": [
    {
     "name": "stdout",
     "output_type": "stream",
     "text": [
      "320\n",
      "188\n"
     ]
    }
   ],
   "source": [
    "data_path = \"/scratch/rmb456/multif0_ismir2017/training_data_with_blur/multif0_complete/\"\n",
    "mtrack_list = mdb.TRACK_LIST_V1 + mdb.TRACK_LIST_V2 + mdb.TRACK_LIST_EXTRA\n",
    "dat = Data(\n",
    "    mtrack_list, data_path, input_patch_size=(26, 26),\n",
    "    output_patch_size=(20, 20), batch_size=1024\n",
    ")"
   ]
  },
  {
   "cell_type": "code",
   "execution_count": 41,
   "metadata": {
    "collapsed": false
   },
   "outputs": [],
   "source": [
    "train_generator = dat.get_train_generator()\n",
    "validation_generator = dat.get_validation_generator()\n",
    "test_generator = dat.get_test_generator()"
   ]
  },
  {
   "cell_type": "code",
   "execution_count": 44,
   "metadata": {
    "collapsed": false
   },
   "outputs": [
    {
     "ename": "AttributeError",
     "evalue": "'tuple' object has no attribute 'itervalues'",
     "output_type": "error",
     "traceback": [
      "\u001b[0;31m\u001b[0m",
      "\u001b[0;31mAttributeError\u001b[0mTraceback (most recent call last)",
      "\u001b[0;32m<ipython-input-44-793acbe7657c>\u001b[0m in \u001b[0;36m<module>\u001b[0;34m()\u001b[0m\n\u001b[0;32m----> 1\u001b[0;31m \u001b[0mtest\u001b[0m \u001b[0;34m=\u001b[0m \u001b[0mnext\u001b[0m\u001b[0;34m(\u001b[0m\u001b[0mtrain_generator\u001b[0m\u001b[0;34m.\u001b[0m\u001b[0mtuples\u001b[0m\u001b[0;34m(\u001b[0m\u001b[0;34m'X'\u001b[0m\u001b[0;34m,\u001b[0m \u001b[0;34m'Y'\u001b[0m\u001b[0;34m)\u001b[0m\u001b[0;34m)\u001b[0m\u001b[0;34m\u001b[0m\u001b[0m\n\u001b[0m",
      "\u001b[0;32m/home/rmb456/anaconda2/lib/python2.7/site-packages/pescador/core.pyc\u001b[0m in \u001b[0;36mtuples\u001b[0;34m(self, *items, **kwargs)\u001b[0m\n\u001b[1;32m    214\u001b[0m                 \u001b[0;32myield\u001b[0m \u001b[0mtuple\u001b[0m\u001b[0;34m(\u001b[0m\u001b[0mdata\u001b[0m\u001b[0;34m[\u001b[0m\u001b[0mitem\u001b[0m\u001b[0;34m]\u001b[0m \u001b[0;32mfor\u001b[0m \u001b[0mitem\u001b[0m \u001b[0;32min\u001b[0m \u001b[0mitems\u001b[0m\u001b[0;34m)\u001b[0m\u001b[0;34m\u001b[0m\u001b[0m\n\u001b[1;32m    215\u001b[0m         \u001b[0;32melse\u001b[0m\u001b[0;34m:\u001b[0m\u001b[0;34m\u001b[0m\u001b[0m\n\u001b[0;32m--> 216\u001b[0;31m             \u001b[0;32mfor\u001b[0m \u001b[0mdata\u001b[0m \u001b[0;32min\u001b[0m \u001b[0mself\u001b[0m\u001b[0;34m.\u001b[0m\u001b[0mgenerate\u001b[0m\u001b[0;34m(\u001b[0m\u001b[0;34m**\u001b[0m\u001b[0mkwargs\u001b[0m\u001b[0;34m)\u001b[0m\u001b[0;34m:\u001b[0m\u001b[0;34m\u001b[0m\u001b[0m\n\u001b[0m\u001b[1;32m    217\u001b[0m                 \u001b[0;32myield\u001b[0m \u001b[0mtuple\u001b[0m\u001b[0;34m(\u001b[0m\u001b[0mdata\u001b[0m\u001b[0;34m[\u001b[0m\u001b[0mitem\u001b[0m\u001b[0;34m]\u001b[0m \u001b[0;32mfor\u001b[0m \u001b[0mitem\u001b[0m \u001b[0;32min\u001b[0m \u001b[0mitems\u001b[0m\u001b[0;34m)\u001b[0m\u001b[0;34m\u001b[0m\u001b[0m\n\u001b[1;32m    218\u001b[0m \u001b[0;34m\u001b[0m\u001b[0m\n",
      "\u001b[0;32m/home/rmb456/anaconda2/lib/python2.7/site-packages/pescador/buffered.pyc\u001b[0m in \u001b[0;36mgenerate\u001b[0;34m(self, max_batches)\u001b[0m\n\u001b[1;32m     69\u001b[0m         \u001b[0;32mwith\u001b[0m \u001b[0mcore\u001b[0m\u001b[0;34m.\u001b[0m\u001b[0mStreamActivator\u001b[0m\u001b[0;34m(\u001b[0m\u001b[0mself\u001b[0m\u001b[0;34m)\u001b[0m\u001b[0;34m:\u001b[0m\u001b[0;34m\u001b[0m\u001b[0m\n\u001b[1;32m     70\u001b[0m             for n, batch in enumerate(buffer_batch(self.stream_.generate(),\n\u001b[0;32m---> 71\u001b[0;31m                                                    self.buffer_size)):\n\u001b[0m\u001b[1;32m     72\u001b[0m                 \u001b[0;32mif\u001b[0m \u001b[0mmax_batches\u001b[0m \u001b[0;32mis\u001b[0m \u001b[0;32mnot\u001b[0m \u001b[0mNone\u001b[0m \u001b[0;32mand\u001b[0m \u001b[0mn\u001b[0m \u001b[0;34m>=\u001b[0m \u001b[0mmax_batches\u001b[0m\u001b[0;34m:\u001b[0m\u001b[0;34m\u001b[0m\u001b[0m\n\u001b[1;32m     73\u001b[0m                     \u001b[0;32mbreak\u001b[0m\u001b[0;34m\u001b[0m\u001b[0m\n",
      "\u001b[0;32m/home/rmb456/anaconda2/lib/python2.7/site-packages/pescador/buffered.pyc\u001b[0m in \u001b[0;36mbuffer_batch\u001b[0;34m(generator, buffer_size)\u001b[0m\n\u001b[1;32m     97\u001b[0m     \u001b[0;32mfor\u001b[0m \u001b[0mx\u001b[0m \u001b[0;32min\u001b[0m \u001b[0mgenerator\u001b[0m\u001b[0;34m:\u001b[0m\u001b[0;34m\u001b[0m\u001b[0m\n\u001b[1;32m     98\u001b[0m         \u001b[0mbatches\u001b[0m\u001b[0;34m.\u001b[0m\u001b[0mappend\u001b[0m\u001b[0;34m(\u001b[0m\u001b[0mx\u001b[0m\u001b[0;34m)\u001b[0m\u001b[0;34m\u001b[0m\u001b[0m\n\u001b[0;32m---> 99\u001b[0;31m         \u001b[0mn\u001b[0m \u001b[0;34m+=\u001b[0m \u001b[0mbatch_length\u001b[0m\u001b[0;34m(\u001b[0m\u001b[0mx\u001b[0m\u001b[0;34m)\u001b[0m\u001b[0;34m\u001b[0m\u001b[0m\n\u001b[0m\u001b[1;32m    100\u001b[0m \u001b[0;34m\u001b[0m\u001b[0m\n\u001b[1;32m    101\u001b[0m         \u001b[0;32mif\u001b[0m \u001b[0mn\u001b[0m \u001b[0;34m<\u001b[0m \u001b[0mbuffer_size\u001b[0m\u001b[0;34m:\u001b[0m\u001b[0;34m\u001b[0m\u001b[0m\n",
      "\u001b[0;32m/home/rmb456/anaconda2/lib/python2.7/site-packages/pescador/buffered.pyc\u001b[0m in \u001b[0;36mbatch_length\u001b[0;34m(batch)\u001b[0m\n\u001b[1;32m    197\u001b[0m     \u001b[0mn\u001b[0m \u001b[0;34m=\u001b[0m \u001b[0mNone\u001b[0m\u001b[0;34m\u001b[0m\u001b[0m\n\u001b[1;32m    198\u001b[0m \u001b[0;34m\u001b[0m\u001b[0m\n\u001b[0;32m--> 199\u001b[0;31m     \u001b[0;32mfor\u001b[0m \u001b[0mvalue\u001b[0m \u001b[0;32min\u001b[0m \u001b[0msix\u001b[0m\u001b[0;34m.\u001b[0m\u001b[0mitervalues\u001b[0m\u001b[0;34m(\u001b[0m\u001b[0mbatch\u001b[0m\u001b[0;34m)\u001b[0m\u001b[0;34m:\u001b[0m\u001b[0;34m\u001b[0m\u001b[0m\n\u001b[0m\u001b[1;32m    200\u001b[0m         \u001b[0;32mif\u001b[0m \u001b[0mn\u001b[0m \u001b[0;32mis\u001b[0m \u001b[0mNone\u001b[0m\u001b[0;34m:\u001b[0m\u001b[0;34m\u001b[0m\u001b[0m\n\u001b[1;32m    201\u001b[0m             \u001b[0mn\u001b[0m \u001b[0;34m=\u001b[0m \u001b[0mlen\u001b[0m\u001b[0;34m(\u001b[0m\u001b[0mvalue\u001b[0m\u001b[0;34m)\u001b[0m\u001b[0;34m\u001b[0m\u001b[0m\n",
      "\u001b[0;32m/home/rmb456/anaconda2/lib/python2.7/site-packages/six.pyc\u001b[0m in \u001b[0;36mitervalues\u001b[0;34m(d, **kw)\u001b[0m\n\u001b[1;32m    594\u001b[0m \u001b[0;34m\u001b[0m\u001b[0m\n\u001b[1;32m    595\u001b[0m     \u001b[0;32mdef\u001b[0m \u001b[0mitervalues\u001b[0m\u001b[0;34m(\u001b[0m\u001b[0md\u001b[0m\u001b[0;34m,\u001b[0m \u001b[0;34m**\u001b[0m\u001b[0mkw\u001b[0m\u001b[0;34m)\u001b[0m\u001b[0;34m:\u001b[0m\u001b[0;34m\u001b[0m\u001b[0m\n\u001b[0;32m--> 596\u001b[0;31m         \u001b[0;32mreturn\u001b[0m \u001b[0md\u001b[0m\u001b[0;34m.\u001b[0m\u001b[0mitervalues\u001b[0m\u001b[0;34m(\u001b[0m\u001b[0;34m**\u001b[0m\u001b[0mkw\u001b[0m\u001b[0;34m)\u001b[0m\u001b[0;34m\u001b[0m\u001b[0m\n\u001b[0m\u001b[1;32m    597\u001b[0m \u001b[0;34m\u001b[0m\u001b[0m\n\u001b[1;32m    598\u001b[0m     \u001b[0;32mdef\u001b[0m \u001b[0miteritems\u001b[0m\u001b[0;34m(\u001b[0m\u001b[0md\u001b[0m\u001b[0;34m,\u001b[0m \u001b[0;34m**\u001b[0m\u001b[0mkw\u001b[0m\u001b[0;34m)\u001b[0m\u001b[0;34m:\u001b[0m\u001b[0;34m\u001b[0m\u001b[0m\n",
      "\u001b[0;31mAttributeError\u001b[0m: 'tuple' object has no attribute 'itervalues'"
     ]
    }
   ],
   "source": [
    "test = next(train_generator.tuples('X', 'Y'))"
   ]
  },
  {
   "cell_type": "markdown",
   "metadata": {},
   "source": [
    "# Build Model"
   ]
  },
  {
   "cell_type": "code",
   "execution_count": 34,
   "metadata": {
    "collapsed": false
   },
   "outputs": [],
   "source": [
    "input_shape = (26, 26, 6)\n",
    "inputs = Input(shape=input_shape)\n",
    "\n",
    "y1 = Conv2D(\n",
    "    128, (3, 3), padding='valid', activation='relu', name='bendy'\n",
    ")(inputs)\n",
    "y2 = Conv2D(\n",
    "    128, (3, 3), padding='valid', activation='relu', name='smoothy1'\n",
    ")(y1)\n",
    "y3 = Conv2D(\n",
    "    64, (3, 3), padding='valid', activation='relu', name='smoothy2'\n",
    ")(y2)\n",
    "y4 = Conv2D(\n",
    "    1, (1, 1), padding='valid', activation='sigmoid', name='squishy'\n",
    ")(y3)\n",
    "predictions = Reshape((20, 20), name='reshapeeee')(y4)\n",
    "\n",
    "model = Model(inputs=inputs, outputs=predictions)"
   ]
  },
  {
   "cell_type": "markdown",
   "metadata": {},
   "source": [
    "# Compile Model"
   ]
  },
  {
   "cell_type": "code",
   "execution_count": 35,
   "metadata": {
    "collapsed": false
   },
   "outputs": [],
   "source": [
    "# loss binary cross entropy\n",
    "model.compile(loss='kld',\n",
    "              optimizer='sgd')"
   ]
  },
  {
   "cell_type": "code",
   "execution_count": 36,
   "metadata": {
    "collapsed": false
   },
   "outputs": [
    {
     "name": "stdout",
     "output_type": "stream",
     "text": [
      "________________________________________________________________________________\n",
      "Layer (type)                        Output Shape                    Param #     \n",
      "================================================================================\n",
      "input_4 (InputLayer)                (None, 26, 26, 6)               0           \n",
      "________________________________________________________________________________\n",
      "bendy (Conv2D)                      (None, 24, 24, 128)             7040        \n",
      "________________________________________________________________________________\n",
      "smoothy1 (Conv2D)                   (None, 22, 22, 128)             147584      \n",
      "________________________________________________________________________________\n",
      "smoothy2 (Conv2D)                   (None, 20, 20, 64)              73792       \n",
      "________________________________________________________________________________\n",
      "squishy (Conv2D)                    (None, 20, 20, 1)               65          \n",
      "________________________________________________________________________________\n",
      "reshapeeee (Reshape)                (None, 20, 20)                  0           \n",
      "================================================================================\n",
      "Total params: 228,481.0\n",
      "Trainable params: 228,481.0\n",
      "Non-trainable params: 0.0\n",
      "________________________________________________________________________________\n"
     ]
    }
   ],
   "source": [
    "model.summary(line_length=80)"
   ]
  },
  {
   "cell_type": "code",
   "execution_count": 27,
   "metadata": {
    "collapsed": true
   },
   "outputs": [],
   "source": [
    "temp_generator = patch_generator(dat.train_files[0], dat.input_patch_size, dat.output_patch_size)"
   ]
  },
  {
   "cell_type": "markdown",
   "metadata": {},
   "source": [
    "# Fit Model"
   ]
  },
  {
   "cell_type": "code",
   "execution_count": 42,
   "metadata": {
    "collapsed": false
   },
   "outputs": [
    {
     "name": "stdout",
     "output_type": "stream",
     "text": [
      "Epoch 1/10\n"
     ]
    },
    {
     "name": "stderr",
     "output_type": "stream",
     "text": [
      "Exception in thread Thread-11:\n",
      "Traceback (most recent call last):\n",
      "  File \"/home/rmb456/anaconda2/lib/python2.7/threading.py\", line 801, in __bootstrap_inner\n",
      "    self.run()\n",
      "  File \"/home/rmb456/anaconda2/lib/python2.7/threading.py\", line 754, in run\n",
      "    self.__target(*self.__args, **self.__kwargs)\n",
      "  File \"/home/rmb456/anaconda2/lib/python2.7/site-packages/keras/engine/training.py\", line 606, in data_generator_task\n",
      "    generator_output = next(self._generator)\n",
      "  File \"/home/rmb456/anaconda2/lib/python2.7/site-packages/pescador/core.py\", line 216, in tuples\n",
      "    for data in self.generate(**kwargs):\n",
      "  File \"/home/rmb456/anaconda2/lib/python2.7/site-packages/pescador/buffered.py\", line 71, in generate\n",
      "    self.buffer_size)):\n",
      "  File \"/home/rmb456/anaconda2/lib/python2.7/site-packages/pescador/buffered.py\", line 99, in buffer_batch\n",
      "    n += batch_length(x)\n",
      "  File \"/home/rmb456/anaconda2/lib/python2.7/site-packages/pescador/buffered.py\", line 199, in batch_length\n",
      "    for value in six.itervalues(batch):\n",
      "  File \"/home/rmb456/anaconda2/lib/python2.7/site-packages/six.py\", line 596, in itervalues\n",
      "    return d.itervalues(**kw)\n",
      "AttributeError: 'tuple' object has no attribute 'itervalues'\n",
      "\n"
     ]
    },
    {
     "ename": "ValueError",
     "evalue": "output of generator should be a tuple `(x, y, sample_weight)` or `(x, y)`. Found: None",
     "output_type": "error",
     "traceback": [
      "\u001b[0;31m\u001b[0m",
      "\u001b[0;31mValueError\u001b[0mTraceback (most recent call last)",
      "\u001b[0;32m<ipython-input-42-5767352dd3f9>\u001b[0m in \u001b[0;36m<module>\u001b[0;34m()\u001b[0m\n\u001b[1;32m      4\u001b[0m \u001b[0;34m\u001b[0m\u001b[0m\n\u001b[1;32m      5\u001b[0m history = model.fit_generator(\n\u001b[0;32m----> 6\u001b[0;31m     \u001b[0mtrain_generator\u001b[0m\u001b[0;34m.\u001b[0m\u001b[0mtuples\u001b[0m\u001b[0;34m(\u001b[0m\u001b[0;34m'X'\u001b[0m\u001b[0;34m,\u001b[0m \u001b[0;34m'Y'\u001b[0m\u001b[0;34m)\u001b[0m\u001b[0;34m,\u001b[0m \u001b[0msamples_per_epoch\u001b[0m\u001b[0;34m,\u001b[0m \u001b[0mepochs\u001b[0m\u001b[0;34m=\u001b[0m\u001b[0mnb_epochs\u001b[0m\u001b[0;34m,\u001b[0m \u001b[0mverbose\u001b[0m\u001b[0;34m=\u001b[0m\u001b[0;36m1\u001b[0m\u001b[0;31m#,\u001b[0m\u001b[0;34m\u001b[0m\u001b[0m\n\u001b[0m\u001b[1;32m      7\u001b[0m     \u001b[0;31m#validation_data=validation_generator, validation_steps=nb_val_samples\u001b[0m\u001b[0;34m\u001b[0m\u001b[0;34m\u001b[0m\u001b[0m\n\u001b[1;32m      8\u001b[0m )\n",
      "\u001b[0;32m/home/rmb456/anaconda2/lib/python2.7/site-packages/keras/legacy/interfaces.pyc\u001b[0m in \u001b[0;36mwrapper\u001b[0;34m(*args, **kwargs)\u001b[0m\n\u001b[1;32m     86\u001b[0m                 warnings.warn('Update your `' + object_name +\n\u001b[1;32m     87\u001b[0m                               '` call to the Keras 2 API: ' + signature, stacklevel=2)\n\u001b[0;32m---> 88\u001b[0;31m             \u001b[0;32mreturn\u001b[0m \u001b[0mfunc\u001b[0m\u001b[0;34m(\u001b[0m\u001b[0;34m*\u001b[0m\u001b[0margs\u001b[0m\u001b[0;34m,\u001b[0m \u001b[0;34m**\u001b[0m\u001b[0mkwargs\u001b[0m\u001b[0;34m)\u001b[0m\u001b[0;34m\u001b[0m\u001b[0m\n\u001b[0m\u001b[1;32m     89\u001b[0m         \u001b[0mwrapper\u001b[0m\u001b[0;34m.\u001b[0m\u001b[0m_legacy_support_signature\u001b[0m \u001b[0;34m=\u001b[0m \u001b[0minspect\u001b[0m\u001b[0;34m.\u001b[0m\u001b[0mgetargspec\u001b[0m\u001b[0;34m(\u001b[0m\u001b[0mfunc\u001b[0m\u001b[0;34m)\u001b[0m\u001b[0;34m\u001b[0m\u001b[0m\n\u001b[1;32m     90\u001b[0m         \u001b[0;32mreturn\u001b[0m \u001b[0mwrapper\u001b[0m\u001b[0;34m\u001b[0m\u001b[0m\n",
      "\u001b[0;32m/home/rmb456/anaconda2/lib/python2.7/site-packages/keras/engine/training.pyc\u001b[0m in \u001b[0;36mfit_generator\u001b[0;34m(self, generator, steps_per_epoch, epochs, verbose, callbacks, validation_data, validation_steps, class_weight, max_q_size, workers, pickle_safe, initial_epoch)\u001b[0m\n\u001b[1;32m   1849\u001b[0m                                          \u001b[0;34m'a tuple `(x, y, sample_weight)` '\u001b[0m\u001b[0;34m\u001b[0m\u001b[0m\n\u001b[1;32m   1850\u001b[0m                                          \u001b[0;34m'or `(x, y)`. Found: '\u001b[0m \u001b[0;34m+\u001b[0m\u001b[0;34m\u001b[0m\u001b[0m\n\u001b[0;32m-> 1851\u001b[0;31m                                          str(generator_output))\n\u001b[0m\u001b[1;32m   1852\u001b[0m                     \u001b[0;32mif\u001b[0m \u001b[0mlen\u001b[0m\u001b[0;34m(\u001b[0m\u001b[0mgenerator_output\u001b[0m\u001b[0;34m)\u001b[0m \u001b[0;34m==\u001b[0m \u001b[0;36m2\u001b[0m\u001b[0;34m:\u001b[0m\u001b[0;34m\u001b[0m\u001b[0m\n\u001b[1;32m   1853\u001b[0m                         \u001b[0mx\u001b[0m\u001b[0;34m,\u001b[0m \u001b[0my\u001b[0m \u001b[0;34m=\u001b[0m \u001b[0mgenerator_output\u001b[0m\u001b[0;34m\u001b[0m\u001b[0m\n",
      "\u001b[0;31mValueError\u001b[0m: output of generator should be a tuple `(x, y, sample_weight)` or `(x, y)`. Found: None"
     ]
    }
   ],
   "source": [
    "samples_per_epoch = 1024 * 10\n",
    "nb_epochs = 10\n",
    "nb_val_samples = 1024\n",
    "\n",
    "history = model.fit_generator(\n",
    "    train_generator.tuples('X', 'Y'), samples_per_epoch, epochs=nb_epochs, verbose=1#,\n",
    "    #validation_data=validation_generator, validation_steps=nb_val_samples\n",
    ")"
   ]
  },
  {
   "cell_type": "code",
   "execution_count": null,
   "metadata": {
    "collapsed": false
   },
   "outputs": [],
   "source": [
    "# plot filters\n",
    "conv_layer = model.get_layer(name='bendy')\n",
    "weights = conv_layer.get_weights()\n",
    "weight_array = weights[0]\n",
    "plt.figure(figsize=(15, 15))\n",
    "for i in range(64):\n",
    "    plt.subplot(8, 8, i+1)\n",
    "    plt.imshow(weight_array[:, :, 0, i], origin='lower')\n",
    "    plt.axis('square')\n",
    "\n",
    "plt.show()"
   ]
  },
  {
   "cell_type": "code",
   "execution_count": null,
   "metadata": {
    "collapsed": true
   },
   "outputs": [],
   "source": [
    "# plot filters\n",
    "conv_layer = model.get_layer(name='smoothy')\n",
    "weights = conv_layer.get_weights()\n",
    "weight_array = weights[0]\n",
    "plt.figure(figsize=(15, 15))\n",
    "for i in range(32):\n",
    "    plt.subplot(8, 4, i+1)\n",
    "    plt.imshow(weight_array[:, :, 0, i], origin='lower')\n",
    "    plt.axis('square')\n",
    "\n",
    "plt.show()"
   ]
  },
  {
   "cell_type": "code",
   "execution_count": null,
   "metadata": {
    "collapsed": true
   },
   "outputs": [],
   "source": [
    "def plot_stuff(X, Y, Y_pred):\n",
    "    sns.set_style('white')\n",
    "    plt.figure(figsize=(15, 15))\n",
    "    \n",
    "    plt.subplot(3, 1, 1)\n",
    "    plt.title(\"prediction\")\n",
    "    plt.imshow(Y_pred[0], origin='lower', cmap='hot', vmin=0, vmax=1)\n",
    "    plt.axis('auto')\n",
    "#     plt.xlim(a, b)\n",
    "    plt.colorbar()\n",
    "\n",
    "    plt.subplot(3, 1, 2)\n",
    "    plt.title('target')\n",
    "    plt.imshow(Y[0], origin='lower', cmap='hot', vmin=0, vmax=1)\n",
    "    plt.axis('auto')\n",
    "#     plt.xlim(a, b)\n",
    "    plt.colorbar()\n",
    "\n",
    "    plt.subplot(3, 1, 3)\n",
    "    plt.title('input')\n",
    "    plt.imshow(X[0, :, :, 0], origin='lower', cmap='hot', vmin=0, vmax=1)\n",
    "    plt.axis('auto')\n",
    "#     plt.xlim(a, b)\n",
    "    plt.colorbar()\n",
    "    plt.show()"
   ]
  },
  {
   "cell_type": "code",
   "execution_count": null,
   "metadata": {
    "collapsed": false
   },
   "outputs": [],
   "source": [
    "for X, Y in validation_generator:\n",
    "    Y_pred = model.predict(X)\n",
    "    plot_stuff(X, Y, Y_pred)\n",
    "    break\n",
    "    if np.sum(Y[0].flatten()) > 0:\n",
    "        plot_stuff(X, Y, Y_pred)\n",
    "        break"
   ]
  },
  {
   "cell_type": "code",
   "execution_count": null,
   "metadata": {
    "collapsed": false
   },
   "outputs": [],
   "source": [
    "for X, Y in train_generator:\n",
    "    for x, y in zip(X, Y):\n",
    "        if np.sum(y.flatten()) > 0:\n",
    "            plt.figure(figsize=(15, 15))\n",
    "            plt.subplot(2, 1, 1)\n",
    "            plt.imshow(x[:, :, 0], origin='lower', cmap='hot')\n",
    "            plt.axis('square')\n",
    "\n",
    "            plt.subplot(2, 1, 2)\n",
    "            plt.imshow(y, origin='lower', cmap='hot')\n",
    "            plt.axis('square')\n",
    "            break"
   ]
  },
  {
   "cell_type": "markdown",
   "metadata": {},
   "source": [
    "# Evaluate Model"
   ]
  },
  {
   "cell_type": "code",
   "execution_count": null,
   "metadata": {
    "collapsed": false
   },
   "outputs": [],
   "source": [
    "model.count_params()"
   ]
  },
  {
   "cell_type": "code",
   "execution_count": null,
   "metadata": {
    "collapsed": false
   },
   "outputs": [],
   "source": [
    "OLAP_KERNEL = np.zeros((20, 20))\n",
    "for i in range(11):\n",
    "    for j in range(11):\n",
    "        val = 0.1*float(i)*0.1*float(j)\n",
    "        OLAP_KERNEL[i, j] = val\n",
    "        OLAP_KERNEL[-i, j] = val\n",
    "        OLAP_KERNEL[i, -j] = val\n",
    "        OLAP_KERNEL[-i, -j] = val"
   ]
  },
  {
   "cell_type": "code",
   "execution_count": null,
   "metadata": {
    "collapsed": false
   },
   "outputs": [],
   "source": [
    "def get_full_track_prediction(data_in, model):\n",
    "\n",
    "    n_harms, n_freqs, n_times = data_in.shape\n",
    "    n_f, n_t = (20, 20)\n",
    "\n",
    "    prediction = np.zeros((n_freqs, n_times))\n",
    "\n",
    "    cqt_patch_generator = stride_cqt(data_in)\n",
    "\n",
    "    for d in cqt_patch_generator:\n",
    "        f = d['f']\n",
    "        t = d['t']\n",
    "        y_pred = model.predict(d['X'].reshape(1, n_f, n_t, n_harms)).reshape(n_f, n_t)\n",
    "#         prediction[f: f + n_f, t: t + n_t] += y_pred * OLAP_KERNEL\n",
    "        prediction[f: f + n_f, t: t + n_t] = y_pred\n",
    "\n",
    "    return prediction\n",
    "    "
   ]
  },
  {
   "cell_type": "code",
   "execution_count": null,
   "metadata": {
    "collapsed": false
   },
   "outputs": [],
   "source": [
    "test_prediction = get_full_track_prediction(dat3['data_in'], model)"
   ]
  },
  {
   "cell_type": "code",
   "execution_count": null,
   "metadata": {
    "collapsed": false
   },
   "outputs": [],
   "source": [
    "a, b = (10000, 20000)\n",
    "\n",
    "sns.set_style('white')\n",
    "plt.figure(figsize=(15, 15))\n",
    "plt.subplot(3, 1, 1)\n",
    "plt.imshow(test_prediction**10, origin='lower', cmap='hot')\n",
    "# plt.imshow((1.0 - test_prediction)**1000, origin='lower', cmap='hot')\n",
    "plt.axis('auto')\n",
    "plt.xlim(a, b)\n",
    "# plt.colorbar()\n",
    "\n",
    "plt.subplot(3, 1, 2)\n",
    "plt.imshow(dat3['data_out'], origin='lower', cmap='hot')\n",
    "plt.axis('auto')\n",
    "plt.xlim(a, b)\n",
    "\n",
    "plt.subplot(3, 1, 3)\n",
    "plt.imshow(dat3['data_in'][0, :, :], origin='lower', cmap='hot')\n",
    "plt.axis('auto')\n",
    "plt.xlim(a, b)"
   ]
  },
  {
   "cell_type": "code",
   "execution_count": null,
   "metadata": {
    "collapsed": false
   },
   "outputs": [],
   "source": [
    "# summarize history for accuracy\n",
    "plt.plot(history.history['acc'])\n",
    "plt.plot(history.history['val_acc'])\n",
    "plt.title('model accuracy')\n",
    "plt.ylabel('accuracy')\n",
    "plt.xlabel('epoch')\n",
    "plt.legend(['train', 'test'], loc='upper left')\n",
    "plt.show()"
   ]
  },
  {
   "cell_type": "code",
   "execution_count": null,
   "metadata": {
    "collapsed": false
   },
   "outputs": [],
   "source": [
    "# summarize history for loss\n",
    "plt.plot(history.history['loss'])\n",
    "plt.plot(history.history['val_loss'])\n",
    "plt.title('model loss')\n",
    "plt.ylabel('loss')\n",
    "plt.xlabel('epoch')\n",
    "plt.legend(['train', 'test'], loc='upper left')\n",
    "plt.show()"
   ]
  },
  {
   "cell_type": "code",
   "execution_count": null,
   "metadata": {
    "collapsed": false
   },
   "outputs": [],
   "source": [
    "plt.imshow(dat3['data_in'][0], origin='lower', cmap='hot')\n",
    "plt.axis('auto')\n",
    "plt.xlim(0, 10000)"
   ]
  },
  {
   "cell_type": "code",
   "execution_count": null,
   "metadata": {
    "collapsed": false
   },
   "outputs": [],
   "source": [
    "plt.imshow(dat3['data_out'], origin='lower', cmap='hot')\n",
    "plt.axis('auto')\n",
    "plt.xlim(0, 10000)"
   ]
  },
  {
   "cell_type": "code",
   "execution_count": null,
   "metadata": {
    "collapsed": true
   },
   "outputs": [],
   "source": [
    "import numpy as np"
   ]
  },
  {
   "cell_type": "code",
   "execution_count": null,
   "metadata": {
    "collapsed": true
   },
   "outputs": [],
   "source": [
    "test = np.zeros((100, 100))"
   ]
  },
  {
   "cell_type": "code",
   "execution_count": null,
   "metadata": {
    "collapsed": false
   },
   "outputs": [],
   "source": [
    "for i in range(50):\n",
    "    test[i, i] = 1\n",
    "for j in range(50, 100):\n",
    "    test[50, j] = 1"
   ]
  },
  {
   "cell_type": "code",
   "execution_count": null,
   "metadata": {
    "collapsed": false
   },
   "outputs": [],
   "source": [
    "test"
   ]
  },
  {
   "cell_type": "code",
   "execution_count": null,
   "metadata": {
    "collapsed": true
   },
   "outputs": [],
   "source": [
    "import matplotlib.pyplot as plt\n",
    "%matplotlib inline"
   ]
  },
  {
   "cell_type": "code",
   "execution_count": null,
   "metadata": {
    "collapsed": false
   },
   "outputs": [],
   "source": [
    "plt.imshow(test, origin='lower', interpolation='none')\n",
    "plt.axis('auto')"
   ]
  },
  {
   "cell_type": "code",
   "execution_count": null,
   "metadata": {
    "collapsed": true
   },
   "outputs": [],
   "source": [
    "from scipy.ndimage import filters"
   ]
  },
  {
   "cell_type": "code",
   "execution_count": null,
   "metadata": {
    "collapsed": false
   },
   "outputs": [],
   "source": [
    "test_filt = filters.gaussian_filter1d(test, 2, axis=0, mode='constant')\n",
    "test_filt = test_filt/np.max(test_filt)"
   ]
  },
  {
   "cell_type": "code",
   "execution_count": null,
   "metadata": {
    "collapsed": false
   },
   "outputs": [],
   "source": [
    "plt.figure(figsize=(15, 8))\n",
    "plt.imshow(test_filt, origin='lower', interpolation='none')\n",
    "plt.axis('auto')\n",
    "plt.colorbar()"
   ]
  },
  {
   "cell_type": "code",
   "execution_count": null,
   "metadata": {
    "collapsed": true
   },
   "outputs": [],
   "source": []
  }
 ],
 "metadata": {
  "kernelspec": {
   "display_name": "Python 2",
   "language": "python",
   "name": "python2"
  },
  "language_info": {
   "codemirror_mode": {
    "name": "ipython",
    "version": 2
   },
   "file_extension": ".py",
   "mimetype": "text/x-python",
   "name": "python",
   "nbconvert_exporter": "python",
   "pygments_lexer": "ipython2",
   "version": "2.7.13"
  }
 },
 "nbformat": 4,
 "nbformat_minor": 2
}
