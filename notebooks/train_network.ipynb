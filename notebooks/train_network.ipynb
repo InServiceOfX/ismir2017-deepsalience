{
 "cells": [
  {
   "cell_type": "code",
   "execution_count": 1,
   "metadata": {
    "collapsed": false
   },
   "outputs": [
    {
     "name": "stderr",
     "output_type": "stream",
     "text": [
      "Using Theano backend.\n"
     ]
    }
   ],
   "source": [
    "from __future__ import print_function\n",
    "import numpy as np\n",
    "np.random.seed(1337)  # for reproducibility\n",
    "\n",
    "from keras.datasets import mnist\n",
    "from keras.models import Sequential, Model\n",
    "from keras.layers import Dense, Dropout, Activation, Flatten, Input, Reshape\n",
    "from keras.layers import Convolution2D, Convolution3D, MaxPooling2D\n",
    "from keras.utils import np_utils\n",
    "from keras import backend as K\n",
    "import pescador\n",
    "\n",
    "%matplotlib inline\n",
    "import matplotlib.pyplot as plt\n",
    "import seaborn as sns\n",
    "import glob\n",
    "import os"
   ]
  },
  {
   "cell_type": "markdown",
   "metadata": {},
   "source": [
    "# load data"
   ]
  },
  {
   "cell_type": "code",
   "execution_count": 2,
   "metadata": {
    "collapsed": true
   },
   "outputs": [],
   "source": [
    "def sum_to_prob(sum_array):\n",
    "    sum_shift = sum_array + 1.0\n",
    "    total = np.sum(sum_shift)\n",
    "    return sum_shift/total"
   ]
  },
  {
   "cell_type": "code",
   "execution_count": 3,
   "metadata": {
    "collapsed": true
   },
   "outputs": [],
   "source": [
    "def normalize_data(input_cqt):\n",
    "    norm_data = input_cqt - np.min(input_cqt)\n",
    "    norm_data = norm_data / np.max(norm_data)\n",
    "    return norm_data"
   ]
  },
  {
   "cell_type": "code",
   "execution_count": 4,
   "metadata": {
    "collapsed": false
   },
   "outputs": [],
   "source": [
    "def __grab_patch_input(f, t, n_f, n_t, n_harms, x_data):\n",
    "    return np.transpose(\n",
    "        x_data[:, f: f + n_f, t: t + n_t], (1, 2, 0)).reshape(1, n_f, n_t, n_harms)"
   ]
  },
  {
   "cell_type": "code",
   "execution_count": 5,
   "metadata": {
    "collapsed": true
   },
   "outputs": [],
   "source": [
    "def __grab_patch_output(f, t, n_f, n_t, y_data):\n",
    "    return y_data[f: f + n_f, t: t + n_t].reshape(1, n_f, n_t)"
   ]
  },
  {
   "cell_type": "code",
   "execution_count": 6,
   "metadata": {
    "collapsed": false
   },
   "outputs": [],
   "source": [
    "def patch_generator(input_cqt, pitch_activation_map, patch_size=(20, 20)):\n",
    "    norm_data = normalize_data(input_cqt)\n",
    "\n",
    "    n_harms, n_freqs, n_times = norm_data.shape\n",
    "    n_f, n_t = patch_size\n",
    "\n",
    "    f_indices = np.arange(0, n_freqs - n_f)\n",
    "    t_indices = np.arange(0, n_times - n_t)\n",
    "    f_dist = sum_to_prob(pitch_activation_map[:-n_f, :].sum(axis=1))\n",
    "    t_dist = sum_to_prob(pitch_activation_map[:, :-n_t].sum(axis=0))\n",
    "\n",
    "    while True:\n",
    "        f = np.random.choice(f_indices, p=f_dist)\n",
    "        t = np.random.choice(t_indices, p=t_dist)\n",
    "        x = __grab_patch_input(f, t, n_f, n_t, n_harms, norm_data)\n",
    "        y = __grab_patch_output(f, t, n_f, n_t, pitch_activation_map)\n",
    "        yield dict(X=x, Y=y)"
   ]
  },
  {
   "cell_type": "code",
   "execution_count": 7,
   "metadata": {
    "collapsed": true
   },
   "outputs": [],
   "source": [
    "def stride_cqt(input_cqt, patch_size=(20, 20)):\n",
    "    norm_data = normalize_data(input_cqt)\n",
    "\n",
    "    n_harms, n_freqs, n_times = norm_data.shape\n",
    "    n_f, n_t = patch_size\n",
    "\n",
    "    f_indices = np.arange(0, n_freqs - n_f, n_f/2)\n",
    "    t_indices = np.arange(0, n_times - n_t, n_t/2)\n",
    "    for f in f_indices:\n",
    "        for t in t_indices:\n",
    "            x = __grab_patch_input(f, t, n_f, n_t, n_harms, norm_data)\n",
    "            yield(dict(X=x, t=t, f=f))"
   ]
  },
  {
   "cell_type": "code",
   "execution_count": 8,
   "metadata": {
    "collapsed": false
   },
   "outputs": [],
   "source": [
    "def keras_generator(data_list, patch_size=(20, 20), n_samples=10000,\n",
    "                    n_active=1000, with_replacement=False, batch_size=1024):\n",
    "    streams = []\n",
    "    for data_in, data_out in data_list:\n",
    "        streams.append(\n",
    "            pescador.Streamer(\n",
    "                patch_generator, data_in, data_out, patch_size=patch_size\n",
    "            )\n",
    "        )\n",
    "    \n",
    "    stream_mux = pescador.Mux(streams, 2,\n",
    "        with_replacement=True, lam=None\n",
    "    )\n",
    "\n",
    "    batch_generator = pescador.buffer_batch(stream_mux.generate(), batch_size)\n",
    "\n",
    "    for batch in batch_generator:\n",
    "        yield (batch['X'], batch['Y'])"
   ]
  },
  {
   "cell_type": "code",
   "execution_count": 9,
   "metadata": {
    "collapsed": false
   },
   "outputs": [
    {
     "name": "stdout",
     "output_type": "stream",
     "text": [
      "0\n"
     ]
    }
   ],
   "source": [
    "data_files = glob.glob(os.path.join(\"../output/training_data/*.npz\"))\n",
    "\n",
    "print(len(data_files))"
   ]
  },
  {
   "cell_type": "code",
   "execution_count": null,
   "metadata": {
    "collapsed": true
   },
   "outputs": [],
   "source": [
    "data = [np.load(fpath, mmap_mode='r') for fpath in data_files][:16]\n",
    "data_list = [\n",
    "    [d['data_in'], d['data_out']] for d in data\n",
    "]\n",
    "\n",
    "train_samples = int(np.round(len(data_files) * 0.8))"
   ]
  },
  {
   "cell_type": "code",
   "execution_count": null,
   "metadata": {
    "collapsed": false
   },
   "outputs": [],
   "source": [
    "train_generator = keras_generator(data_list[:train_samples])\n",
    "validation_generator = keras_generator(data_list[train_samples:])"
   ]
  },
  {
   "cell_type": "markdown",
   "metadata": {},
   "source": [
    "# Build Model"
   ]
  },
  {
   "cell_type": "code",
   "execution_count": 13,
   "metadata": {
    "collapsed": false
   },
   "outputs": [],
   "source": [
    "input_shape = (26, 26, 6)\n",
    "inputs = Input(shape=input_shape)\n",
    "\n",
    "y1 = Convolution2D(\n",
    "    256, 3, 3, border_mode='valid', activation='relu', name='bendy'\n",
    ")(inputs)\n",
    "y2 = Convolution2D(\n",
    "    128, 3, 3, border_mode='valid', activation='relu', name='smoothy1'\n",
    ")(y1)\n",
    "y3 = Convolution2D(\n",
    "    64, 3, 3, border_mode='valid', activation='relu', name='smoothy2'\n",
    ")(y2)\n",
    "y4 = Convolution2D(\n",
    "    1, 1, 1, border_mode='valid', activation='sigmoid', name='squishy'\n",
    ")(y3)\n",
    "predictions = Reshape((20, 20), name='reshapeeee')(y4)\n",
    "\n",
    "model = Model(input=inputs, output=predictions)"
   ]
  },
  {
   "cell_type": "markdown",
   "metadata": {},
   "source": [
    "# Compile Model"
   ]
  },
  {
   "cell_type": "code",
   "execution_count": 16,
   "metadata": {
    "collapsed": false
   },
   "outputs": [],
   "source": [
    "# loss binary cross entropy\n",
    "model.compile(loss='kld',\n",
    "              optimizer='sgd')"
   ]
  },
  {
   "cell_type": "code",
   "execution_count": 15,
   "metadata": {
    "collapsed": true
   },
   "outputs": [],
   "source": [
    "model.compile?"
   ]
  },
  {
   "cell_type": "code",
   "execution_count": 14,
   "metadata": {
    "collapsed": false
   },
   "outputs": [
    {
     "name": "stdout",
     "output_type": "stream",
     "text": [
      "_______________________________________________________________________________________________________\n",
      "Layer (type)                     Output Shape           Param #      Connected to                      \n",
      "=======================================================================================================\n",
      "input_8 (InputLayer)             (None, 26, 26, 6)      0                                              \n",
      "_______________________________________________________________________________________________________\n",
      "bendy (Convolution2D)            (None, 24, 24, 256)    14080        input_8[0][0]                     \n",
      "_______________________________________________________________________________________________________\n",
      "smoothy1 (Convolution2D)         (None, 22, 22, 128)    295040       bendy[0][0]                       \n",
      "_______________________________________________________________________________________________________\n",
      "smoothy2 (Convolution2D)         (None, 20, 20, 64)     73792        smoothy1[0][0]                    \n",
      "_______________________________________________________________________________________________________\n",
      "squishy (Convolution2D)          (None, 20, 20, 1)      65           smoothy2[0][0]                    \n",
      "_______________________________________________________________________________________________________\n",
      "reshapeeee (Reshape)             (None, 20, 20)         0            squishy[0][0]                     \n",
      "=======================================================================================================\n",
      "Total params: 382,977\n",
      "Trainable params: 382,977\n",
      "Non-trainable params: 0\n",
      "_______________________________________________________________________________________________________\n"
     ]
    }
   ],
   "source": [
    "model.summary(line_length=103)"
   ]
  },
  {
   "cell_type": "markdown",
   "metadata": {},
   "source": [
    "# Fit Model"
   ]
  },
  {
   "cell_type": "code",
   "execution_count": 17,
   "metadata": {
    "collapsed": false
   },
   "outputs": [
    {
     "ename": "NameError",
     "evalue": "name 'train_generator' is not defined",
     "output_type": "error",
     "traceback": [
      "\u001b[0;31m---------------------------------------------------------------------------\u001b[0m",
      "\u001b[0;31mNameError\u001b[0m                                 Traceback (most recent call last)",
      "\u001b[0;32m<ipython-input-17-c4f6040ef701>\u001b[0m in \u001b[0;36m<module>\u001b[0;34m()\u001b[0m\n\u001b[1;32m      4\u001b[0m \u001b[0;34m\u001b[0m\u001b[0m\n\u001b[1;32m      5\u001b[0m history = model.fit_generator(\n\u001b[0;32m----> 6\u001b[0;31m     \u001b[0mtrain_generator\u001b[0m\u001b[0;34m,\u001b[0m \u001b[0msamples_per_epoch\u001b[0m\u001b[0;34m,\u001b[0m \u001b[0mnb_epochs\u001b[0m\u001b[0;34m,\u001b[0m \u001b[0mverbose\u001b[0m\u001b[0;34m=\u001b[0m\u001b[0;36m1\u001b[0m\u001b[0;34m,\u001b[0m\u001b[0;34m\u001b[0m\u001b[0m\n\u001b[0m\u001b[1;32m      7\u001b[0m     \u001b[0mvalidation_data\u001b[0m\u001b[0;34m=\u001b[0m\u001b[0mvalidation_generator\u001b[0m\u001b[0;34m,\u001b[0m \u001b[0mnb_val_samples\u001b[0m\u001b[0;34m=\u001b[0m\u001b[0mnb_val_samples\u001b[0m\u001b[0;34m\u001b[0m\u001b[0m\n\u001b[1;32m      8\u001b[0m )\n",
      "\u001b[0;31mNameError\u001b[0m: name 'train_generator' is not defined"
     ]
    }
   ],
   "source": [
    "samples_per_epoch = 1024 * 100\n",
    "nb_epochs = 10\n",
    "nb_val_samples = 1024\n",
    "\n",
    "history = model.fit_generator(\n",
    "    train_generator, samples_per_epoch, nb_epochs, verbose=1,\n",
    "    validation_data=validation_generator, nb_val_samples=nb_val_samples\n",
    ")"
   ]
  },
  {
   "cell_type": "code",
   "execution_count": null,
   "metadata": {
    "collapsed": false
   },
   "outputs": [],
   "source": [
    "# plot filters\n",
    "conv_layer = model.get_layer(name='bendy')\n",
    "weights = conv_layer.get_weights()\n",
    "weight_array = weights[0]\n",
    "plt.figure(figsize=(15, 15))\n",
    "for i in range(64):\n",
    "    plt.subplot(8, 8, i+1)\n",
    "    plt.imshow(weight_array[:, :, 0, i], origin='lower')\n",
    "    plt.axis('square')\n",
    "\n",
    "plt.show()"
   ]
  },
  {
   "cell_type": "code",
   "execution_count": null,
   "metadata": {
    "collapsed": true
   },
   "outputs": [],
   "source": [
    "# plot filters\n",
    "conv_layer = model.get_layer(name='smoothy')\n",
    "weights = conv_layer.get_weights()\n",
    "weight_array = weights[0]\n",
    "plt.figure(figsize=(15, 15))\n",
    "for i in range(32):\n",
    "    plt.subplot(8, 4, i+1)\n",
    "    plt.imshow(weight_array[:, :, 0, i], origin='lower')\n",
    "    plt.axis('square')\n",
    "\n",
    "plt.show()"
   ]
  },
  {
   "cell_type": "code",
   "execution_count": null,
   "metadata": {
    "collapsed": true
   },
   "outputs": [],
   "source": [
    "def plot_stuff(X, Y, Y_pred):\n",
    "    sns.set_style('white')\n",
    "    plt.figure(figsize=(15, 15))\n",
    "    \n",
    "    plt.subplot(3, 1, 1)\n",
    "    plt.title(\"prediction\")\n",
    "    plt.imshow(Y_pred[0], origin='lower', cmap='hot', vmin=0, vmax=1)\n",
    "    plt.axis('auto')\n",
    "#     plt.xlim(a, b)\n",
    "    plt.colorbar()\n",
    "\n",
    "    plt.subplot(3, 1, 2)\n",
    "    plt.title('target')\n",
    "    plt.imshow(Y[0], origin='lower', cmap='hot', vmin=0, vmax=1)\n",
    "    plt.axis('auto')\n",
    "#     plt.xlim(a, b)\n",
    "    plt.colorbar()\n",
    "\n",
    "    plt.subplot(3, 1, 3)\n",
    "    plt.title('input')\n",
    "    plt.imshow(X[0, :, :, 0], origin='lower', cmap='hot', vmin=0, vmax=1)\n",
    "    plt.axis('auto')\n",
    "#     plt.xlim(a, b)\n",
    "    plt.colorbar()\n",
    "    plt.show()"
   ]
  },
  {
   "cell_type": "code",
   "execution_count": null,
   "metadata": {
    "collapsed": false
   },
   "outputs": [],
   "source": [
    "for X, Y in validation_generator:\n",
    "    Y_pred = model.predict(X)\n",
    "    plot_stuff(X, Y, Y_pred)\n",
    "    break\n",
    "    if np.sum(Y[0].flatten()) > 0:\n",
    "        plot_stuff(X, Y, Y_pred)\n",
    "        break"
   ]
  },
  {
   "cell_type": "code",
   "execution_count": null,
   "metadata": {
    "collapsed": false
   },
   "outputs": [],
   "source": [
    "for X, Y in train_generator:\n",
    "    for x, y in zip(X, Y):\n",
    "        if np.sum(y.flatten()) > 0:\n",
    "            plt.figure(figsize=(15, 15))\n",
    "            plt.subplot(2, 1, 1)\n",
    "            plt.imshow(x[:, :, 0], origin='lower', cmap='hot')\n",
    "            plt.axis('square')\n",
    "\n",
    "            plt.subplot(2, 1, 2)\n",
    "            plt.imshow(y, origin='lower', cmap='hot')\n",
    "            plt.axis('square')\n",
    "            break"
   ]
  },
  {
   "cell_type": "markdown",
   "metadata": {},
   "source": [
    "# Evaluate Model"
   ]
  },
  {
   "cell_type": "code",
   "execution_count": null,
   "metadata": {
    "collapsed": false
   },
   "outputs": [],
   "source": [
    "model.count_params()"
   ]
  },
  {
   "cell_type": "code",
   "execution_count": null,
   "metadata": {
    "collapsed": false
   },
   "outputs": [],
   "source": [
    "OLAP_KERNEL = np.zeros((20, 20))\n",
    "for i in range(11):\n",
    "    for j in range(11):\n",
    "        val = 0.1*float(i)*0.1*float(j)\n",
    "        OLAP_KERNEL[i, j] = val\n",
    "        OLAP_KERNEL[-i, j] = val\n",
    "        OLAP_KERNEL[i, -j] = val\n",
    "        OLAP_KERNEL[-i, -j] = val"
   ]
  },
  {
   "cell_type": "code",
   "execution_count": null,
   "metadata": {
    "collapsed": false
   },
   "outputs": [],
   "source": [
    "def get_full_track_prediction(data_in, model):\n",
    "\n",
    "    n_harms, n_freqs, n_times = data_in.shape\n",
    "    n_f, n_t = (20, 20)\n",
    "\n",
    "    prediction = np.zeros((n_freqs, n_times))\n",
    "\n",
    "    cqt_patch_generator = stride_cqt(data_in)\n",
    "\n",
    "    for d in cqt_patch_generator:\n",
    "        f = d['f']\n",
    "        t = d['t']\n",
    "        y_pred = model.predict(d['X'].reshape(1, n_f, n_t, n_harms)).reshape(n_f, n_t)\n",
    "#         prediction[f: f + n_f, t: t + n_t] += y_pred * OLAP_KERNEL\n",
    "        prediction[f: f + n_f, t: t + n_t] = y_pred\n",
    "\n",
    "    return prediction\n",
    "    "
   ]
  },
  {
   "cell_type": "code",
   "execution_count": null,
   "metadata": {
    "collapsed": false
   },
   "outputs": [],
   "source": [
    "test_prediction = get_full_track_prediction(dat3['data_in'], model)"
   ]
  },
  {
   "cell_type": "code",
   "execution_count": null,
   "metadata": {
    "collapsed": false
   },
   "outputs": [],
   "source": [
    "a, b = (10000, 20000)\n",
    "\n",
    "sns.set_style('white')\n",
    "plt.figure(figsize=(15, 15))\n",
    "plt.subplot(3, 1, 1)\n",
    "plt.imshow(test_prediction**10, origin='lower', cmap='hot')\n",
    "# plt.imshow((1.0 - test_prediction)**1000, origin='lower', cmap='hot')\n",
    "plt.axis('auto')\n",
    "plt.xlim(a, b)\n",
    "# plt.colorbar()\n",
    "\n",
    "plt.subplot(3, 1, 2)\n",
    "plt.imshow(dat3['data_out'], origin='lower', cmap='hot')\n",
    "plt.axis('auto')\n",
    "plt.xlim(a, b)\n",
    "\n",
    "plt.subplot(3, 1, 3)\n",
    "plt.imshow(dat3['data_in'][0, :, :], origin='lower', cmap='hot')\n",
    "plt.axis('auto')\n",
    "plt.xlim(a, b)"
   ]
  },
  {
   "cell_type": "code",
   "execution_count": null,
   "metadata": {
    "collapsed": false
   },
   "outputs": [],
   "source": [
    "# summarize history for accuracy\n",
    "plt.plot(history.history['acc'])\n",
    "plt.plot(history.history['val_acc'])\n",
    "plt.title('model accuracy')\n",
    "plt.ylabel('accuracy')\n",
    "plt.xlabel('epoch')\n",
    "plt.legend(['train', 'test'], loc='upper left')\n",
    "plt.show()"
   ]
  },
  {
   "cell_type": "code",
   "execution_count": null,
   "metadata": {
    "collapsed": false
   },
   "outputs": [],
   "source": [
    "# summarize history for loss\n",
    "plt.plot(history.history['loss'])\n",
    "plt.plot(history.history['val_loss'])\n",
    "plt.title('model loss')\n",
    "plt.ylabel('loss')\n",
    "plt.xlabel('epoch')\n",
    "plt.legend(['train', 'test'], loc='upper left')\n",
    "plt.show()"
   ]
  },
  {
   "cell_type": "code",
   "execution_count": null,
   "metadata": {
    "collapsed": false
   },
   "outputs": [],
   "source": [
    "plt.imshow(dat3['data_in'][0], origin='lower', cmap='hot')\n",
    "plt.axis('auto')\n",
    "plt.xlim(0, 10000)"
   ]
  },
  {
   "cell_type": "code",
   "execution_count": null,
   "metadata": {
    "collapsed": false
   },
   "outputs": [],
   "source": [
    "plt.imshow(dat3['data_out'], origin='lower', cmap='hot')\n",
    "plt.axis('auto')\n",
    "plt.xlim(0, 10000)"
   ]
  },
  {
   "cell_type": "code",
   "execution_count": 1,
   "metadata": {
    "collapsed": true
   },
   "outputs": [],
   "source": [
    "import numpy as np"
   ]
  },
  {
   "cell_type": "code",
   "execution_count": 60,
   "metadata": {
    "collapsed": true
   },
   "outputs": [],
   "source": [
    "test = np.zeros((100, 100))"
   ]
  },
  {
   "cell_type": "code",
   "execution_count": 61,
   "metadata": {
    "collapsed": false
   },
   "outputs": [],
   "source": [
    "for i in range(50):\n",
    "    test[i, i] = 1\n",
    "for j in range(50, 100):\n",
    "    test[50, j] = 1"
   ]
  },
  {
   "cell_type": "code",
   "execution_count": 62,
   "metadata": {
    "collapsed": false
   },
   "outputs": [
    {
     "data": {
      "text/plain": [
       "array([[ 1.,  0.,  0., ...,  0.,  0.,  0.],\n",
       "       [ 0.,  1.,  0., ...,  0.,  0.,  0.],\n",
       "       [ 0.,  0.,  1., ...,  0.,  0.,  0.],\n",
       "       ..., \n",
       "       [ 0.,  0.,  0., ...,  0.,  0.,  0.],\n",
       "       [ 0.,  0.,  0., ...,  0.,  0.,  0.],\n",
       "       [ 0.,  0.,  0., ...,  0.,  0.,  0.]])"
      ]
     },
     "execution_count": 62,
     "metadata": {},
     "output_type": "execute_result"
    }
   ],
   "source": [
    "test"
   ]
  },
  {
   "cell_type": "code",
   "execution_count": 10,
   "metadata": {
    "collapsed": true
   },
   "outputs": [],
   "source": [
    "import matplotlib.pyplot as plt\n",
    "%matplotlib inline"
   ]
  },
  {
   "cell_type": "code",
   "execution_count": 63,
   "metadata": {
    "collapsed": false
   },
   "outputs": [
    {
     "data": {
      "text/plain": [
       "(-0.5, 99.5, -0.5, 99.5)"
      ]
     },
     "execution_count": 63,
     "metadata": {},
     "output_type": "execute_result"
    },
    {
     "data": {
      "image/png": "[encoded data removed]",
      "text/plain": [
       "<matplotlib.figure.Figure at 0x11277e810>"
      ]
     },
     "metadata": {},
     "output_type": "display_data"
    }
   ],
   "source": [
    "plt.imshow(test, origin='lower', interpolation='none')\n",
    "plt.axis('auto')"
   ]
  },
  {
   "cell_type": "code",
   "execution_count": 13,
   "metadata": {
    "collapsed": true
   },
   "outputs": [],
   "source": [
    "from scipy.ndimage import filters"
   ]
  },
  {
   "cell_type": "code",
   "execution_count": 76,
   "metadata": {
    "collapsed": false
   },
   "outputs": [],
   "source": [
    "test_filt = filters.gaussian_filter1d(test, 2, axis=0, mode='constant')\n",
    "test_filt = test_filt/np.max(test_filt)"
   ]
  },
  {
   "cell_type": "code",
   "execution_count": 77,
   "metadata": {
    "collapsed": false
   },
   "outputs": [
    {
     "data": {
      "text/plain": [
       "<matplotlib.colorbar.Colorbar at 0x111b0e950>"
      ]
     },
     "execution_count": 77,
     "metadata": {},
     "output_type": "execute_result"
    },
    {
     "data": {
      "image/png": "[encoded data removed]",
      "text/plain": [
       "<matplotlib.figure.Figure at 0x11271c5d0>"
      ]
     },
     "metadata": {},
     "output_type": "display_data"
    }
   ],
   "source": [
    "plt.figure(figsize=(15, 8))\n",
    "plt.imshow(test_filt, origin='lower', interpolation='none')\n",
    "plt.axis('auto')\n",
    "plt.colorbar()"
   ]
  },
  {
   "cell_type": "code",
   "execution_count": null,
   "metadata": {
    "collapsed": true
   },
   "outputs": [],
   "source": []
  }
 ],
 "metadata": {
  "kernelspec": {
   "display_name": "Python 2",
   "language": "python",
   "name": "python2"
  },
  "language_info": {
   "codemirror_mode": {
    "name": "ipython",
    "version": 2
   },
   "file_extension": ".py",
   "mimetype": "text/x-python",
   "name": "python",
   "nbconvert_exporter": "python",
   "pygments_lexer": "ipython2",
   "version": "2.7.9"
  }
 },
 "nbformat": 4,
 "nbformat_minor": 2
}
