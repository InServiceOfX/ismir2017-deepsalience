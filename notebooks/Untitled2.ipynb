{
 "cells": [
  {
   "cell_type": "code",
   "execution_count": 1,
   "metadata": {
    "collapsed": false
   },
   "outputs": [
    {
     "name": "stdout",
     "output_type": "stream",
     "text": [
      "/home/rmb456/repos/multif0/deepsalience\n"
     ]
    }
   ],
   "source": [
    "cd ../deepsalience/"
   ]
  },
  {
   "cell_type": "code",
   "execution_count": 2,
   "metadata": {
    "collapsed": false
   },
   "outputs": [
    {
     "name": "stderr",
     "output_type": "stream",
     "text": [
      "Using TensorFlow backend.\n"
     ]
    }
   ],
   "source": [
    "import core\n",
    "import evaluate"
   ]
  },
  {
   "cell_type": "code",
   "execution_count": 10,
   "metadata": {
    "collapsed": true
   },
   "outputs": [],
   "source": [
    "import medleydb as mdb\n",
    "data_path = core.data_path_multif0_incomplete()\n",
    "import keras\n",
    "from keras.models import Model\n",
    "from keras.layers import Dense, Input, Reshape, Lambda\n",
    "from keras.layers.convolutional import Conv2D\n",
    "from keras import backend as K\n",
    "import os"
   ]
  },
  {
   "cell_type": "code",
   "execution_count": 7,
   "metadata": {
    "collapsed": false
   },
   "outputs": [],
   "source": [
    "input_shape = (None, None, 6)\n",
    "inputs = Input(shape=input_shape)\n",
    "\n",
    "y1 = Conv2D(64, (5, 5), padding='same', activation='relu', name='bendy1')(inputs)\n",
    "y2 = Conv2D(64, (5, 5), padding='same', activation='relu', name='bendy2')(y1)\n",
    "y3 = Conv2D(64, (3, 3), padding='same', activation='relu', name='smoothy1')(y2)\n",
    "y4 = Conv2D(64, (3, 3), padding='same', activation='relu', name='smoothy2')(y3)\n",
    "y5 = Conv2D(1, (1, 1), padding='same', activation='sigmoid', name='squishy')(y4)\n",
    "predictions = Lambda(lambda x: K.squeeze(x, axis=3))(y5)\n",
    "\n",
    "model = Model(inputs=inputs, outputs=predictions)\n",
    "model.compile(\n",
    "    loss=core.bkld, metrics=['mse', core.soft_binary_accuracy],\n",
    "    optimizer='adam'\n",
    ")\n",
    "model.load_weights(\"../experiment_output/multif0_exper1_2/multif0_exper1_2.pkl\")"
   ]
  },
  {
   "cell_type": "code",
   "execution_count": 11,
   "metadata": {
    "collapsed": false
   },
   "outputs": [
    {
     "name": "stdout",
     "output_type": "stream",
     "text": [
      "    > Bach10_01AchGottundHerr_multif0_incomplete_input.npy\n",
      "    > Bach10_02AchLiebenChristen_multif0_incomplete_input.npy\n",
      "    > Bach10_03ChristederdubistTagundLicht_multif0_incomplete_input.npy\n",
      "    > Bach10_04ChristeDuBeistand_multif0_incomplete_input.npy\n",
      "    > Bach10_05DieNacht_multif0_incomplete_input.npy\n",
      "    > Bach10_06DieSonne_multif0_incomplete_input.npy\n",
      "    > Bach10_07HerrGott_multif0_incomplete_input.npy\n",
      "    > Bach10_08FuerDeinenThron_multif0_incomplete_input.npy\n",
      "    > Bach10_09Jesus_multif0_incomplete_input.npy\n",
      "    > Bach10_10NunBitten_multif0_incomplete_input.npy\n",
      "       Precision     Recall   Accuracy  Substitution Error  Miss Error  \\\n",
      "count  10.000000  10.000000  10.000000           10.000000   10.000000   \n",
      "mean    0.540505   0.546858   0.372506            0.247899    0.205242   \n",
      "std     0.023592   0.027096   0.008947            0.015869    0.039355   \n",
      "min     0.503564   0.507710   0.359441            0.220637    0.135956   \n",
      "25%     0.525574   0.534634   0.366936            0.237097    0.177920   \n",
      "50%     0.538001   0.540692   0.370750            0.250469    0.207687   \n",
      "75%     0.553024   0.568274   0.376313            0.256400    0.227755   \n",
      "max     0.581903   0.590624   0.387829            0.273420    0.271653   \n",
      "\n",
      "       False Alarm Error  Total Error  Chroma Precision  Chroma Recall  \\\n",
      "count          10.000000    10.000000         10.000000      10.000000   \n",
      "mean            0.220093     0.673235          0.606485       0.614043   \n",
      "std             0.052807     0.034353          0.020239       0.034525   \n",
      "min             0.126234     0.610995          0.570308       0.561496   \n",
      "25%             0.194460     0.656222          0.593937       0.591077   \n",
      "50%             0.229819     0.667534          0.605951       0.624648   \n",
      "75%             0.247506     0.691410          0.622031       0.638750   \n",
      "max             0.315907     0.741151          0.634144       0.655170   \n",
      "\n",
      "       Chroma Accuracy  Chroma Substitution Error  Chroma Miss Error  \\\n",
      "count        10.000000                  10.000000          10.000000   \n",
      "mean          0.438144                   0.180715           0.205242   \n",
      "std           0.011734                   0.018673           0.039355   \n",
      "min           0.423094                   0.145331           0.135956   \n",
      "25%           0.427868                   0.168691           0.177920   \n",
      "50%           0.440388                   0.180711           0.207687   \n",
      "75%           0.446305                   0.195284           0.227755   \n",
      "max           0.456216                   0.208874           0.271653   \n",
      "\n",
      "       Chroma False Alarm Error  Chroma Total Error  \n",
      "count                 10.000000           10.000000  \n",
      "mean                   0.220093            0.606050  \n",
      "std                    0.052807            0.024589  \n",
      "min                    0.126234            0.564738  \n",
      "25%                    0.194460            0.600526  \n",
      "50%                    0.229819            0.603214  \n",
      "75%                    0.247506            0.607865  \n",
      "max                    0.315907            0.664972  \n"
     ]
    }
   ],
   "source": [
    "bach10_files = core.get_file_paths(mdb.TRACK_LIST_BACH10, data_path)\n",
    "evaluate.get_all_multif0_metrics(\n",
    "    bach10_files, model,\n",
    "    \"../experiment_output/multif0_exper1_2/fixed_bach10/\",\n",
    "    os.path.join(\"../experiment_output/multif0_exper1_2/fixed_bach10/\", \"bach10_scores_full.csv\"),\n",
    "    os.path.join(\"../experiment_output/multif0_exper1_2/fixed_bach10/\", \"bach10_score_full_summary.csv\"), create_pred=True)"
   ]
  },
  {
   "cell_type": "code",
   "execution_count": null,
   "metadata": {
    "collapsed": true
   },
   "outputs": [],
   "source": []
  }
 ],
 "metadata": {
  "kernelspec": {
   "display_name": "Python 2",
   "language": "python",
   "name": "python2"
  },
  "language_info": {
   "codemirror_mode": {
    "name": "ipython",
    "version": 2
   },
   "file_extension": ".py",
   "mimetype": "text/x-python",
   "name": "python",
   "nbconvert_exporter": "python",
   "pygments_lexer": "ipython2",
   "version": "2.7.13"
  }
 },
 "nbformat": 4,
 "nbformat_minor": 2
}
