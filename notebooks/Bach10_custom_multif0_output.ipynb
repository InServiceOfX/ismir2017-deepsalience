{
 "cells": [
  {
   "cell_type": "code",
   "execution_count": 1,
   "metadata": {
    "collapsed": false
   },
   "outputs": [
    {
     "name": "stdout",
     "output_type": "stream",
     "text": [
      "/Users/rabitt/Dropbox/MARL/repos/multif0/deepsalience\n"
     ]
    }
   ],
   "source": [
    "cd ../deepsalience/"
   ]
  },
  {
   "cell_type": "code",
   "execution_count": 38,
   "metadata": {
    "collapsed": true
   },
   "outputs": [],
   "source": [
    "import compute_training_data as C\n",
    "import evaluate\n",
    "import numpy as np\n",
    "import scipy\n",
    "import os\n",
    "import glob\n",
    "import matplotlib.pyplot as plt\n",
    "import pandas as pd\n",
    "import mir_eval\n",
    "%matplotlib inline"
   ]
  },
  {
   "cell_type": "code",
   "execution_count": 39,
   "metadata": {
    "collapsed": true
   },
   "outputs": [],
   "source": [
    "def pitch_activations_to_mf0_polyphony_constraint(pitch_activation_mat, thresh):\n",
    "    \"\"\"Convert a pitch activation map to multif0 format by thresholding values\n",
    "    at thresh\n",
    "    \"\"\"\n",
    "    freqs = C.get_freq_grid()\n",
    "    times = C.get_time_grid(pitch_activation_mat.shape[1])\n",
    "\n",
    "    peak_thresh_mat = np.zeros(pitch_activation_mat.shape)\n",
    "    peaks = scipy.signal.argrelmax(pitch_activation_mat, axis=0)\n",
    "    peak_thresh_mat[peaks] = pitch_activation_mat[peaks]\n",
    "\n",
    "    idx = np.where(peak_thresh_mat >= thresh)\n",
    "\n",
    "    est_freq_idx = [[] for _ in range(len(times))]\n",
    "    \n",
    "    for f, t in zip(idx[0], idx[1]):\n",
    "        est_freq_idx[t].append(f)\n",
    "    \n",
    "    est_freqs = []\n",
    "    for t, f_list in zip(range(len(times)), est_freq_idx):\n",
    "        if len(f_list) > 0:\n",
    "            amplitudes = [peak_thresh_mat[f, t] for f in f_list]\n",
    "            ordered_idx = np.flip(np.argsort(amplitudes), 0)\n",
    "            est_freqs.append(\n",
    "                np.array([freqs[f_list[i]] for i in ordered_idx[:4]])\n",
    "            )\n",
    "        else:\n",
    "            est_freqs.append(np.array([]))\n",
    "        \n",
    "\n",
    "    return times, est_freqs"
   ]
  },
  {
   "cell_type": "code",
   "execution_count": 78,
   "metadata": {
    "collapsed": false
   },
   "outputs": [],
   "source": [
    "fpaths = glob.glob(\"../comparisons/bach10/*_GTF0s.txt\")\n",
    "trackids = ['_'.join(os.path.basename(f).split('_')[:2]) for f in fpaths]\n",
    "\n",
    "thresh_vals = np.arange(0, 1, 0.05)\n",
    "\n",
    "all_scores = {t: [] for t in thresh_vals}\n",
    "for t in thresh_vals:\n",
    "    for trackid in trackids:\n",
    "        cnn_npy = \"../experiment11b_output/{}_prediction.npy\".format(trackid)\n",
    "        gt_output = '../comparisons/bach10/{}_GTF0s.txt'.format(trackid)\n",
    "        Y = np.load(cnn_npy)\n",
    "        c_times, c_freqs = pitch_activations_to_mf0_polyphony_constraint(Y, t)\n",
    "        g_times, g_freqs = mir_eval.io.load_ragged_time_series(gt_output)\n",
    "        scores = mir_eval.multipitch.evaluate(g_times, g_freqs, c_times, c_freqs)\n",
    "        all_scores[t].append(scores)\n",
    "\n",
    "# score_df = pd.DataFrame(all_scores)\n",
    "# score_df.describe()"
   ]
  },
  {
   "cell_type": "code",
   "execution_count": 90,
   "metadata": {
    "collapsed": false
   },
   "outputs": [
    {
     "data": {
      "image/png": "[encoded data removed]",
      "text/plain": [
       "<matplotlib.figure.Figure at 0x117263410>"
      ]
     },
     "metadata": {},
     "output_type": "display_data"
    }
   ],
   "source": [
    "import seaborn as sns\n",
    "\n",
    "\n",
    "acc = [np.mean([s['Accuracy'] for s in all_scores[t]]) for t in thresh_vals]\n",
    "recall = [np.mean([s['Recall'] for s in all_scores[t]]) for t in thresh_vals]\n",
    "precision = [np.mean([s['Precision'] for s in all_scores[t]]) for t in thresh_vals]\n",
    "fmeasure = [2.0*p*r/(p+r) for (r, p) in zip(recall, precision)]\n",
    "\n",
    "plt.figure(figsize=(5, 2))\n",
    "sns.set(font_scale=1.2)\n",
    "sns.set_style('whitegrid')\n",
    "# plt.subplot(121)\n",
    "plt.plot([0.3, 0.3], [0, 0.65], '--', color='grey')\n",
    "plt.plot(thresh_vals, acc, 'o-', color='#CF6766')\n",
    "plt.ylabel(\"Accuracy\")\n",
    "plt.xlabel(\"Threshold\")\n",
    "\n",
    "plt.xlim([0, 1])\n",
    "plt.ylim([0, 0.65])\n",
    "\n",
    "plt.savefig('../paper-figs/bach10_threshsweep.pdf', format='pdf', bbox_inches='tight')\n",
    "\n",
    "# plt.subplot(122)\n",
    "# plt.plot([0.3, 0.3], [0, 1], '--', color='grey')\n",
    "# plt.plot(thresh_vals, fmeasure, '.')\n",
    "# plt.ylabel(\"F1\")\n",
    "# plt.xlabel(\"Threshold\")\n",
    "\n",
    "# plt.subplot(223)\n",
    "# plt.plot([0.3, 0.3], [0, 1], '--', color='grey')\n",
    "# plt.plot(thresh_vals, recall, '.')\n",
    "# plt.ylabel(\"Recall\")\n",
    "# plt.xlabel(\"Threshold\")\n",
    "\n",
    "\n",
    "# plt.subplot(224)\n",
    "# plt.plot([0.3, 0.3], [0, 1], '--', color='grey')\n",
    "# plt.plot(thresh_vals, precision, '.')\n",
    "# plt.ylabel(\"Precision\")\n",
    "# plt.xlabel(\"Threshold\")\n"
   ]
  },
  {
   "cell_type": "code",
   "execution_count": 85,
   "metadata": {
    "collapsed": false
   },
   "outputs": [
    {
     "data": {
      "text/html": [
       "<div>\n",
       "<table border=\"1\" class=\"dataframe\">\n",
       "  <thead>\n",
       "    <tr style=\"text-align: right;\">\n",
       "      <th></th>\n",
       "      <th>Accuracy</th>\n",
       "      <th>Chroma Accuracy</th>\n",
       "      <th>Chroma False Alarm Error</th>\n",
       "      <th>Chroma Miss Error</th>\n",
       "      <th>Chroma Precision</th>\n",
       "      <th>Chroma Recall</th>\n",
       "      <th>Chroma Substitution Error</th>\n",
       "      <th>Chroma Total Error</th>\n",
       "      <th>False Alarm Error</th>\n",
       "      <th>Miss Error</th>\n",
       "      <th>Precision</th>\n",
       "      <th>Recall</th>\n",
       "      <th>Substitution Error</th>\n",
       "      <th>Total Error</th>\n",
       "    </tr>\n",
       "  </thead>\n",
       "  <tbody>\n",
       "    <tr>\n",
       "      <th>count</th>\n",
       "      <td>10.000000</td>\n",
       "      <td>10.000000</td>\n",
       "      <td>10.000000</td>\n",
       "      <td>10.000000</td>\n",
       "      <td>10.000000</td>\n",
       "      <td>10.000000</td>\n",
       "      <td>10.000000</td>\n",
       "      <td>10.000000</td>\n",
       "      <td>10.000000</td>\n",
       "      <td>10.000000</td>\n",
       "      <td>10.000000</td>\n",
       "      <td>10.000000</td>\n",
       "      <td>10.000000</td>\n",
       "      <td>10.000000</td>\n",
       "    </tr>\n",
       "    <tr>\n",
       "      <th>mean</th>\n",
       "      <td>0.634347</td>\n",
       "      <td>0.691888</td>\n",
       "      <td>0.054289</td>\n",
       "      <td>0.098223</td>\n",
       "      <td>0.836800</td>\n",
       "      <td>0.799757</td>\n",
       "      <td>0.102020</td>\n",
       "      <td>0.254532</td>\n",
       "      <td>0.054289</td>\n",
       "      <td>0.098223</td>\n",
       "      <td>0.794106</td>\n",
       "      <td>0.759038</td>\n",
       "      <td>0.142739</td>\n",
       "      <td>0.295251</td>\n",
       "    </tr>\n",
       "    <tr>\n",
       "      <th>std</th>\n",
       "      <td>0.022859</td>\n",
       "      <td>0.020611</td>\n",
       "      <td>0.011758</td>\n",
       "      <td>0.019667</td>\n",
       "      <td>0.019232</td>\n",
       "      <td>0.016962</td>\n",
       "      <td>0.016463</td>\n",
       "      <td>0.018794</td>\n",
       "      <td>0.011758</td>\n",
       "      <td>0.019667</td>\n",
       "      <td>0.018950</td>\n",
       "      <td>0.020654</td>\n",
       "      <td>0.018177</td>\n",
       "      <td>0.020463</td>\n",
       "    </tr>\n",
       "    <tr>\n",
       "      <th>min</th>\n",
       "      <td>0.604676</td>\n",
       "      <td>0.655953</td>\n",
       "      <td>0.040058</td>\n",
       "      <td>0.066962</td>\n",
       "      <td>0.809403</td>\n",
       "      <td>0.775782</td>\n",
       "      <td>0.083172</td>\n",
       "      <td>0.226029</td>\n",
       "      <td>0.040058</td>\n",
       "      <td>0.066962</td>\n",
       "      <td>0.769974</td>\n",
       "      <td>0.730697</td>\n",
       "      <td>0.113183</td>\n",
       "      <td>0.260881</td>\n",
       "    </tr>\n",
       "    <tr>\n",
       "      <th>25%</th>\n",
       "      <td>0.615228</td>\n",
       "      <td>0.679233</td>\n",
       "      <td>0.044641</td>\n",
       "      <td>0.089173</td>\n",
       "      <td>0.821190</td>\n",
       "      <td>0.786944</td>\n",
       "      <td>0.088359</td>\n",
       "      <td>0.244827</td>\n",
       "      <td>0.044641</td>\n",
       "      <td>0.089173</td>\n",
       "      <td>0.777149</td>\n",
       "      <td>0.741057</td>\n",
       "      <td>0.132493</td>\n",
       "      <td>0.277610</td>\n",
       "    </tr>\n",
       "    <tr>\n",
       "      <th>50%</th>\n",
       "      <td>0.631486</td>\n",
       "      <td>0.692971</td>\n",
       "      <td>0.053360</td>\n",
       "      <td>0.100006</td>\n",
       "      <td>0.839084</td>\n",
       "      <td>0.796737</td>\n",
       "      <td>0.099478</td>\n",
       "      <td>0.257800</td>\n",
       "      <td>0.053360</td>\n",
       "      <td>0.100006</td>\n",
       "      <td>0.794008</td>\n",
       "      <td>0.759225</td>\n",
       "      <td>0.137646</td>\n",
       "      <td>0.298690</td>\n",
       "    </tr>\n",
       "    <tr>\n",
       "      <th>75%</th>\n",
       "      <td>0.652335</td>\n",
       "      <td>0.707832</td>\n",
       "      <td>0.057762</td>\n",
       "      <td>0.107963</td>\n",
       "      <td>0.851983</td>\n",
       "      <td>0.814959</td>\n",
       "      <td>0.110850</td>\n",
       "      <td>0.259894</td>\n",
       "      <td>0.057762</td>\n",
       "      <td>0.107963</td>\n",
       "      <td>0.806882</td>\n",
       "      <td>0.778190</td>\n",
       "      <td>0.155218</td>\n",
       "      <td>0.311039</td>\n",
       "    </tr>\n",
       "    <tr>\n",
       "      <th>max</th>\n",
       "      <td>0.669793</td>\n",
       "      <td>0.721813</td>\n",
       "      <td>0.074285</td>\n",
       "      <td>0.134609</td>\n",
       "      <td>0.862183</td>\n",
       "      <td>0.822254</td>\n",
       "      <td>0.128076</td>\n",
       "      <td>0.282435</td>\n",
       "      <td>0.074285</td>\n",
       "      <td>0.134609</td>\n",
       "      <td>0.823624</td>\n",
       "      <td>0.787402</td>\n",
       "      <td>0.171715</td>\n",
       "      <td>0.318719</td>\n",
       "    </tr>\n",
       "  </tbody>\n",
       "</table>\n",
       "</div>"
      ],
      "text/plain": [
       "        Accuracy  Chroma Accuracy  Chroma False Alarm Error  \\\n",
       "count  10.000000        10.000000                 10.000000   \n",
       "mean    0.634347         0.691888                  0.054289   \n",
       "std     0.022859         0.020611                  0.011758   \n",
       "min     0.604676         0.655953                  0.040058   \n",
       "25%     0.615228         0.679233                  0.044641   \n",
       "50%     0.631486         0.692971                  0.053360   \n",
       "75%     0.652335         0.707832                  0.057762   \n",
       "max     0.669793         0.721813                  0.074285   \n",
       "\n",
       "       Chroma Miss Error  Chroma Precision  Chroma Recall  \\\n",
       "count          10.000000         10.000000      10.000000   \n",
       "mean            0.098223          0.836800       0.799757   \n",
       "std             0.019667          0.019232       0.016962   \n",
       "min             0.066962          0.809403       0.775782   \n",
       "25%             0.089173          0.821190       0.786944   \n",
       "50%             0.100006          0.839084       0.796737   \n",
       "75%             0.107963          0.851983       0.814959   \n",
       "max             0.134609          0.862183       0.822254   \n",
       "\n",
       "       Chroma Substitution Error  Chroma Total Error  False Alarm Error  \\\n",
       "count                  10.000000           10.000000          10.000000   \n",
       "mean                    0.102020            0.254532           0.054289   \n",
       "std                     0.016463            0.018794           0.011758   \n",
       "min                     0.083172            0.226029           0.040058   \n",
       "25%                     0.088359            0.244827           0.044641   \n",
       "50%                     0.099478            0.257800           0.053360   \n",
       "75%                     0.110850            0.259894           0.057762   \n",
       "max                     0.128076            0.282435           0.074285   \n",
       "\n",
       "       Miss Error  Precision     Recall  Substitution Error  Total Error  \n",
       "count   10.000000  10.000000  10.000000           10.000000    10.000000  \n",
       "mean     0.098223   0.794106   0.759038            0.142739     0.295251  \n",
       "std      0.019667   0.018950   0.020654            0.018177     0.020463  \n",
       "min      0.066962   0.769974   0.730697            0.113183     0.260881  \n",
       "25%      0.089173   0.777149   0.741057            0.132493     0.277610  \n",
       "50%      0.100006   0.794008   0.759225            0.137646     0.298690  \n",
       "75%      0.107963   0.806882   0.778190            0.155218     0.311039  \n",
       "max      0.134609   0.823624   0.787402            0.171715     0.318719  "
      ]
     },
     "execution_count": 85,
     "metadata": {},
     "output_type": "execute_result"
    }
   ],
   "source": [
    "score_df = pd.DataFrame(all_scores[0.1])\n",
    "score_df.describe()"
   ]
  },
  {
   "cell_type": "code",
   "execution_count": 30,
   "metadata": {
    "collapsed": false
   },
   "outputs": [],
   "source": [
    "def mf0_to_plot_array(times, freqs):\n",
    "    plot_times = []\n",
    "    plot_freqs = []\n",
    "    for t, freq in zip(times, freqs):\n",
    "        for f in freq:\n",
    "            plot_times.append(t)\n",
    "            plot_freqs.append(f)\n",
    "    return plot_times, plot_freqs"
   ]
  },
  {
   "cell_type": "code",
   "execution_count": 31,
   "metadata": {
    "collapsed": true
   },
   "outputs": [],
   "source": [
    "ct, cf = mf0_to_plot_array(c_times, c_freqs)\n",
    "gt, gf = mf0_to_plot_array(g_times, g_freqs)"
   ]
  },
  {
   "cell_type": "code",
   "execution_count": 32,
   "metadata": {
    "collapsed": false
   },
   "outputs": [
    {
     "data": {
      "text/plain": [
       "[<matplotlib.lines.Line2D at 0x1182af450>]"
      ]
     },
     "execution_count": 32,
     "metadata": {},
     "output_type": "execute_result"
    },
    {
     "data": {
      "image/png": "[encoded data removed]",
      "text/plain": [
       "<matplotlib.figure.Figure at 0x1140e0550>"
      ]
     },
     "metadata": {},
     "output_type": "display_data"
    }
   ],
   "source": [
    "plt.semilogy(gt, gf, '.k', basey=2, markersize=8)\n",
    "plt.semilogy(ct, cf, '.', color='r', basey=2, markersize=4)"
   ]
  },
  {
   "cell_type": "code",
   "execution_count": null,
   "metadata": {
    "collapsed": true
   },
   "outputs": [],
   "source": []
  }
 ],
 "metadata": {
  "kernelspec": {
   "display_name": "Python 2",
   "language": "python",
   "name": "python2"
  },
  "language_info": {
   "codemirror_mode": {
    "name": "ipython",
    "version": 2
   },
   "file_extension": ".py",
   "mimetype": "text/x-python",
   "name": "python",
   "nbconvert_exporter": "python",
   "pygments_lexer": "ipython2",
   "version": "2.7.9"
  }
 },
 "nbformat": 4,
 "nbformat_minor": 2
}
