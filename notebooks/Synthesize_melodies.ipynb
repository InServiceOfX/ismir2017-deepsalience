{
 "cells": [
  {
   "cell_type": "code",
   "execution_count": 1,
   "metadata": {
    "collapsed": false
   },
   "outputs": [
    {
     "name": "stdout",
     "output_type": "stream",
     "text": [
      "/Users/bittner/Dropbox/MARL/repos/multif0/deepsalience\n"
     ]
    }
   ],
   "source": [
    "cd ../deepsalience/"
   ]
  },
  {
   "cell_type": "code",
   "execution_count": 12,
   "metadata": {
    "collapsed": false
   },
   "outputs": [],
   "source": [
    "import mir_eval\n",
    "import numpy as np\n",
    "import librosa\n",
    "import compute_training_data as C"
   ]
  },
  {
   "cell_type": "code",
   "execution_count": 28,
   "metadata": {
    "collapsed": true
   },
   "outputs": [],
   "source": [
    "def get_mel_prediction(pred_path, thresh=0.2):\n",
    "    Y = np.load(pred_path)\n",
    "    Y = Y/np.max(np.max(Y))\n",
    "    max_idx = np.argmax(Y, axis=0)\n",
    "    est_times = C.get_time_grid(Y.shape[1])\n",
    "    freq_grid = C.get_freq_grid()\n",
    "    est_freqs = []\n",
    "    for i, f in enumerate(max_idx):\n",
    "        if Y[f, i] < thresh:\n",
    "            est_freqs.append(-1.0*freq_grid[f])\n",
    "        else:\n",
    "            est_freqs.append(freq_grid[f])\n",
    "    est_freqs = np.array(est_freqs)\n",
    "    return est_times, est_freqs"
   ]
  },
  {
   "cell_type": "code",
   "execution_count": 32,
   "metadata": {
    "collapsed": false
   },
   "outputs": [],
   "source": [
    "npy_fpath = \"../model_11b_mel2_outputs/MusicDelta_BebopJazz_prediction.npy\"\n",
    "est_times, est_freqs = get_mel_prediction(npy_fpath)"
   ]
  },
  {
   "cell_type": "code",
   "execution_count": 33,
   "metadata": {
    "collapsed": true
   },
   "outputs": [],
   "source": [
    "est_freqs[est_freqs < 0] = 0.0"
   ]
  },
  {
   "cell_type": "code",
   "execution_count": 34,
   "metadata": {
    "collapsed": false
   },
   "outputs": [],
   "source": [
    "fs = 44100\n",
    "y = mir_eval.sonify.pitch_contour(est_times, est_freqs, fs)\n",
    "librosa.output.write_wav(\"/Users/bittner/Desktop/testmel.wav\", y, fs)"
   ]
  },
  {
   "cell_type": "code",
   "execution_count": null,
   "metadata": {
    "collapsed": true
   },
   "outputs": [],
   "source": []
  }
 ],
 "metadata": {
  "kernelspec": {
   "display_name": "Python 2",
   "language": "python",
   "name": "python2"
  },
  "language_info": {
   "codemirror_mode": {
    "name": "ipython",
    "version": 2
   },
   "file_extension": ".py",
   "mimetype": "text/x-python",
   "name": "python",
   "nbconvert_exporter": "python",
   "pygments_lexer": "ipython2",
   "version": "2.7.13"
  }
 },
 "nbformat": 4,
 "nbformat_minor": 2
}
