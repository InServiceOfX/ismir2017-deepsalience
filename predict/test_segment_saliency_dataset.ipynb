{
 "cells": [
  {
   "cell_type": "code",
   "execution_count": null,
   "metadata": {},
   "outputs": [],
   "source": [
    "import IPython.display as ipd\n",
    "import random\n",
    "from segment_saliency_dataset import SegmentSaliencyDataset\n",
    "from postprocess_saliency import visualize_saliency_map\n",
    "dataset = SegmentSaliencyDataset(src_dir=\"../mtg_jamendo_raw_30s_audio_00_saliencies\")\n",
    "print(f'num tracks in dataset: {len(dataset)}')\n",
    "\n",
    "# by trackname + offset\n",
    "saliency_dict = dataset.get_saliency('604700', offset=0)\n",
    "print(saliency_dict.keys())\n",
    "print(saliency_dict['salience'].shape)\n",
    "\n",
    "# by trackname + offset - argmax\n",
    "saliency_dict = dataset.get_saliency('604700', offset=0, argmax=True)\n",
    "print(saliency_dict.keys())\n",
    "print(f\"with argmax the shape is: {saliency_dict['salience'].shape}\")\n",
    "print(f\"and it looks like this: {saliency_dict['salience'][:30]}\")\n",
    "\n",
    "# random sample\n",
    "wav, saliency_dict, wav_sr = dataset[random.randint(0, len(dataset)-1)]\n",
    "\n",
    "ipd.display(ipd.Audio(wav, rate=wav_sr))\n",
    "\n",
    "visualize_saliency_map(saliency_dict['salience'].T, saliency_dict['freqs'], saliency_dict['times'], matplotlib=True)\n"
   ]
  }
 ],
 "metadata": {
  "kernelspec": {
   "display_name": "deep_salience",
   "language": "python",
   "name": "python3"
  },
  "language_info": {
   "codemirror_mode": {
    "name": "ipython",
    "version": 3
   },
   "file_extension": ".py",
   "mimetype": "text/x-python",
   "name": "python",
   "nbconvert_exporter": "python",
   "pygments_lexer": "ipython3",
   "version": "3.7.16"
  }
 },
 "nbformat": 4,
 "nbformat_minor": 2
}
