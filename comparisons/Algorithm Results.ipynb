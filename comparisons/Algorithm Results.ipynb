{
 "cells": [
  {
   "cell_type": "code",
   "execution_count": 1,
   "metadata": {
    "collapsed": false
   },
   "outputs": [
    {
     "name": "stdout",
     "output_type": "stream",
     "text": [
      "/Users/bittner/Dropbox/MARL/repos/multif0/deepsalience\n"
     ]
    }
   ],
   "source": [
    "cd ../deepsalience/"
   ]
  },
  {
   "cell_type": "code",
   "execution_count": 2,
   "metadata": {
    "collapsed": false
   },
   "outputs": [],
   "source": [
    "import evaluate\n",
    "import glob\n",
    "import os\n",
    "import mir_eval\n",
    "import pandas"
   ]
  },
  {
   "cell_type": "markdown",
   "metadata": {},
   "source": [
    "## evaluate"
   ]
  },
  {
   "cell_type": "code",
   "execution_count": 5,
   "metadata": {
    "collapsed": true
   },
   "outputs": [],
   "source": [
    "def get_mf0_scores(est_path, ref_path, test_set_name, algorithm_name):\n",
    "\n",
    "    all_scores = []\n",
    "    est_files = glob.glob(os.path.join(est_path, '*.txt'))\n",
    "\n",
    "    for est_file in est_files:\n",
    "        print(est_file)\n",
    "#         print(ref_file)\n",
    "        file_key = \"_\".join(os.path.basename(est_file).replace('-', '_').split('_')[:2])\n",
    "        file_key = file_key.split('.')[0]\n",
    "        print(file_key)\n",
    "        file_glob = glob.glob(os.path.join(ref_path, '{}*.txt'.format(file_key)))\n",
    "        if len(file_glob) > 1:\n",
    "            print(file_glob)\n",
    "        ref_file = file_glob[0]\n",
    "\n",
    "#         print(ref_file)\n",
    "        # load ground truth labels\n",
    "        ref_times, ref_freqs = \\\n",
    "            mir_eval.io.load_ragged_time_series(ref_file)\n",
    "        \n",
    "#         for i, (tms, fqs) in enumerate(zip(ref_times, ref_freqs)):\n",
    "#             if any(fqs == 0):\n",
    "#                 ref_freqs[i] = np.array([f for f in fqs if f > 0])\n",
    "\n",
    "#         print(ref_freqs)\n",
    "        # load est labels\n",
    "        est_times, est_freqs = \\\n",
    "            mir_eval.io.load_ragged_time_series(est_file)\n",
    "\n",
    "            \n",
    "        # get multif0 metrics and append\n",
    "        scores = mir_eval.multipitch.evaluate(\n",
    "            ref_times, ref_freqs, est_times, est_freqs)\n",
    "        scores['track'] = file_key\n",
    "        all_scores.append(scores)\n",
    "    \n",
    "    # save scores to data frame\n",
    "    save_path = '/Users/bittner/Dropbox/MARL/repos/multif0/comparisons/algorithm_outputs'\n",
    "    scores_path = os.path.join(\n",
    "        save_path, '{}_{}_all_scores.csv'.format(test_set_name, algorithm_name)\n",
    "    )\n",
    "    score_summary_path = os.path.join(\n",
    "        save_path, \"{}_{}_score_summary.csv\".format(test_set_name, algorithm_name)\n",
    "    )\n",
    "    df = pandas.DataFrame(all_scores)\n",
    "    df.to_csv(scores_path)\n",
    "    df.describe().to_csv(score_summary_path)\n",
    "    print(df.describe())"
   ]
  },
  {
   "cell_type": "code",
   "execution_count": 6,
   "metadata": {
    "collapsed": false
   },
   "outputs": [
    {
     "name": "stdout",
     "output_type": "stream",
     "text": [
      "../comparisons/algorithm_outputs/bach10/benetos/01-AchGottundHerr.txt\n",
      "01_AchGottundHerr\n",
      "../comparisons/algorithm_outputs/bach10/benetos/02-AchLiebenChristen.txt\n",
      "02_AchLiebenChristen\n",
      "../comparisons/algorithm_outputs/bach10/benetos/03-ChristederdubistTagundLicht.txt\n",
      "03_ChristederdubistTagundLicht\n",
      "../comparisons/algorithm_outputs/bach10/benetos/04-ChristeDuBeistand.txt\n",
      "04_ChristeDuBeistand\n",
      "../comparisons/algorithm_outputs/bach10/benetos/05-DieNacht.txt\n",
      "05_DieNacht\n",
      "../comparisons/algorithm_outputs/bach10/benetos/06-DieSonne.txt\n",
      "06_DieSonne\n",
      "../comparisons/algorithm_outputs/bach10/benetos/07-HerrGott.txt\n",
      "07_HerrGott\n",
      "../comparisons/algorithm_outputs/bach10/benetos/08-FuerDeinenThron.txt\n",
      "08_FuerDeinenThron\n",
      "../comparisons/algorithm_outputs/bach10/benetos/09-Jesus.txt\n",
      "09_Jesus\n",
      "../comparisons/algorithm_outputs/bach10/benetos/10-NunBitten.txt\n",
      "10_NunBitten\n",
      "       Precision     Recall   Accuracy  Substitution Error  Miss Error  \\\n",
      "count  10.000000  10.000000  10.000000           10.000000   10.000000   \n",
      "mean    0.839325   0.887114   0.758471            0.052563    0.060323   \n",
      "std     0.023613   0.016756   0.026418            0.012215    0.009504   \n",
      "min     0.802589   0.853465   0.715272            0.036153    0.044226   \n",
      "25%     0.821508   0.876586   0.735452            0.044067    0.054366   \n",
      "50%     0.844205   0.888768   0.766557            0.051990    0.059772   \n",
      "75%     0.846870   0.897946   0.777906            0.055583    0.068767   \n",
      "max     0.873946   0.907755   0.794735            0.077433    0.071605   \n",
      "\n",
      "       False Alarm Error  Total Error  Chroma Precision  Chroma Recall  \\\n",
      "count          10.000000    10.000000         10.000000      10.000000   \n",
      "mean            0.117816     0.230702          0.859903       0.908830   \n",
      "std             0.023124     0.027544          0.021970       0.010555   \n",
      "min             0.078715     0.191156          0.825827       0.892730   \n",
      "25%             0.109668     0.215445          0.854794       0.899260   \n",
      "50%             0.117837     0.220928          0.857291       0.913111   \n",
      "75%             0.126267     0.256481          0.868153       0.915580   \n",
      "max             0.152904     0.272918          0.894222       0.922010   \n",
      "\n",
      "       Chroma Accuracy  Chroma Substitution Error  Chroma Miss Error  \\\n",
      "count        10.000000                  10.000000          10.000000   \n",
      "mean          0.791601                   0.030847           0.060323   \n",
      "std           0.020858                   0.005942           0.009504   \n",
      "min           0.759758                   0.021146           0.044226   \n",
      "25%           0.775937                   0.027974           0.054366   \n",
      "50%           0.794796                   0.032006           0.059772   \n",
      "75%           0.804047                   0.034375           0.068767   \n",
      "max           0.823720                   0.040198           0.071605   \n",
      "\n",
      "       Chroma False Alarm Error  Chroma Total Error  \n",
      "count                 10.000000           10.000000  \n",
      "mean                   0.117816            0.208986  \n",
      "std                    0.023124            0.024551  \n",
      "min                    0.078715            0.173205  \n",
      "25%                    0.109668            0.195742  \n",
      "50%                    0.117837            0.206286  \n",
      "75%                    0.126267            0.222696  \n",
      "max                    0.152904            0.250551  \n"
     ]
    }
   ],
   "source": [
    "get_mf0_scores(\n",
    "    '../comparisons/algorithm_outputs/bach10/benetos/',\n",
    "    '../comparisons/bach10/',\n",
    "    'bach10', 'benetos'\n",
    ")"
   ]
  },
  {
   "cell_type": "code",
   "execution_count": 8,
   "metadata": {
    "collapsed": false
   },
   "outputs": [
    {
     "name": "stdout",
     "output_type": "stream",
     "text": [
      "../comparisons/algorithm_outputs/bach10/duan/01_AchGottundHerr_multif0_mirexf0.txt\n",
      "01_AchGottundHerr\n",
      "../comparisons/algorithm_outputs/bach10/duan/02_AchLiebenChristen_multif0_mirexf0.txt\n",
      "02_AchLiebenChristen\n",
      "../comparisons/algorithm_outputs/bach10/duan/03_ChristederdubistTagundLicht_multif0_mirexf0.txt\n",
      "03_ChristederdubistTagundLicht\n",
      "../comparisons/algorithm_outputs/bach10/duan/04_ChristeDuBeistand_multif0_mirexf0.txt\n",
      "04_ChristeDuBeistand\n",
      "../comparisons/algorithm_outputs/bach10/duan/05_DieNacht_multif0_mirexf0.txt\n",
      "05_DieNacht\n",
      "../comparisons/algorithm_outputs/bach10/duan/06_DieSonne_multif0_mirexf0.txt\n",
      "06_DieSonne\n",
      "../comparisons/algorithm_outputs/bach10/duan/07_HerrGott_multif0_mirexf0.txt\n",
      "07_HerrGott\n",
      "../comparisons/algorithm_outputs/bach10/duan/08_FuerDeinenThron_multif0_mirexf0.txt\n",
      "08_FuerDeinenThron\n",
      "../comparisons/algorithm_outputs/bach10/duan/09_Jesus_multif0_mirexf0.txt\n",
      "09_Jesus\n",
      "../comparisons/algorithm_outputs/bach10/duan/10_NunBitten_multif0_mirexf0.txt\n",
      "10_NunBitten\n",
      "        Accuracy  Chroma Accuracy  Chroma False Alarm Error  \\\n",
      "count  10.000000        10.000000                 10.000000   \n",
      "mean    0.681651         0.741509                  0.009735   \n",
      "std     0.026199         0.025603                  0.003746   \n",
      "min     0.621099         0.699936                  0.005490   \n",
      "25%     0.670716         0.731218                  0.007133   \n",
      "50%     0.688671         0.739370                  0.008976   \n",
      "75%     0.693292         0.747793                  0.011098   \n",
      "max     0.716950         0.799737                  0.016218   \n",
      "\n",
      "       Chroma Miss Error  Chroma Precision  Chroma Recall  \\\n",
      "count          10.000000         10.000000      10.000000   \n",
      "mean            0.196502          0.949301       0.772025   \n",
      "std             0.025209          0.006952       0.025588   \n",
      "min             0.143574          0.934546       0.728891   \n",
      "25%             0.186132          0.946745       0.763485   \n",
      "50%             0.201989          0.949623       0.768583   \n",
      "75%             0.205246          0.953390       0.779148   \n",
      "max             0.235233          0.959590       0.827610   \n",
      "\n",
      "       Chroma Substitution Error  Chroma Total Error  False Alarm Error  \\\n",
      "count                  10.000000           10.000000          10.000000   \n",
      "mean                    0.031473            0.237710           0.009735   \n",
      "std                     0.005873            0.025677           0.003746   \n",
      "min                     0.025991            0.178426           0.005490   \n",
      "25%                     0.027040            0.228896           0.007133   \n",
      "50%                     0.029740            0.242448           0.008976   \n",
      "75%                     0.034796            0.246160           0.011098   \n",
      "max                     0.044616            0.276600           0.016218   \n",
      "\n",
      "       Miss Error  Precision     Recall  Substitution Error  Total Error  \n",
      "count   10.000000  10.000000  10.000000           10.000000    10.000000  \n",
      "mean     0.196502   0.903645   0.734931            0.068567     0.274804  \n",
      "std      0.025209   0.011399   0.026293            0.011152     0.025501  \n",
      "min      0.143574   0.880546   0.678247            0.050990     0.228324  \n",
      "25%      0.186132   0.898188   0.724119            0.060529     0.262221  \n",
      "50%      0.201989   0.904623   0.738245            0.070464     0.274102  \n",
      "75%      0.205246   0.909998   0.748831            0.075745     0.285856  \n",
      "max      0.235233   0.920922   0.777712            0.086520     0.327243  \n"
     ]
    }
   ],
   "source": [
    "get_mf0_scores(\n",
    "    '../comparisons/algorithm_outputs/bach10/duan/',\n",
    "    '../comparisons/bach10/',\n",
    "    'bach10', 'duan'\n",
    ")"
   ]
  },
  {
   "cell_type": "code",
   "execution_count": 9,
   "metadata": {
    "collapsed": false
   },
   "outputs": [
    {
     "name": "stdout",
     "output_type": "stream",
     "text": [
      "../comparisons/algorithm_outputs/su/duan/PQ02_Elgar_audiomirexf0.txt\n",
      "PQ02_Elgar\n",
      "../comparisons/algorithm_outputs/su/duan/PQ03_Farranc_audiomirexf0.txt\n",
      "PQ03_Farranc\n",
      "../comparisons/algorithm_outputs/su/duan/PS01_Beethoven_audiomirexf0.txt\n",
      "PS01_Beethoven\n",
      "../comparisons/algorithm_outputs/su/duan/PS02_Chopin_audiomirexf0.txt\n",
      "PS02_Chopin\n",
      "../comparisons/algorithm_outputs/su/duan/PS03_Mozart_audiomirexf0.txt\n",
      "PS03_Mozart\n",
      "../comparisons/algorithm_outputs/su/duan/SQ01_Beethoven_audiomirexf0.txt\n",
      "SQ01_Beethoven\n",
      "../comparisons/algorithm_outputs/su/duan/SQ02_Janacek_audiomirexf0.txt\n",
      "SQ02_Janacek\n",
      "../comparisons/algorithm_outputs/su/duan/SQ03_Schubert_audiomirexf0.txt\n",
      "SQ03_Schubert\n",
      "../comparisons/algorithm_outputs/su/duan/VS01_Schumann_audiomirexf0.txt\n",
      "VS01_Schumann\n",
      "../comparisons/algorithm_outputs/su/duan/VS04_Franck_audiomirexf0.txt\n",
      "VS04_Franck\n",
      "        Accuracy  Chroma Accuracy  Chroma False Alarm Error  \\\n",
      "count  10.000000        10.000000                 10.000000   \n",
      "mean    0.317448         0.392864                  0.114668   \n",
      "std     0.064461         0.065696                  0.129633   \n",
      "min     0.222871         0.299795                  0.000000   \n",
      "25%     0.264217         0.363409                  0.010715   \n",
      "50%     0.315047         0.380057                  0.069788   \n",
      "75%     0.366185         0.439508                  0.179750   \n",
      "max     0.409627         0.500000                  0.341798   \n",
      "\n",
      "       Chroma Miss Error  Chroma Precision  Chroma Recall  \\\n",
      "count          10.000000         10.000000      10.000000   \n",
      "mean            0.382563          0.712073       0.491390   \n",
      "std             0.175184          0.134304       0.124951   \n",
      "min             0.179311          0.518618       0.311599   \n",
      "25%             0.200141          0.612077       0.410659   \n",
      "50%             0.432992          0.676623       0.453401   \n",
      "75%             0.499918          0.827381       0.600496   \n",
      "max             0.664822          0.895127       0.670821   \n",
      "\n",
      "       Chroma Substitution Error  Chroma Total Error  False Alarm Error  \\\n",
      "count                  10.000000           10.000000          10.000000   \n",
      "mean                    0.126047            0.623278           0.114668   \n",
      "std                     0.062490            0.093104           0.129633   \n",
      "min                     0.023579            0.480296           0.000000   \n",
      "25%                     0.084084            0.572522           0.010715   \n",
      "50%                     0.137146            0.632951           0.069788   \n",
      "75%                     0.168296            0.695892           0.179750   \n",
      "max                     0.209782            0.749832           0.341798   \n",
      "\n",
      "       Miss Error  Precision     Recall  Substitution Error  Total Error  \n",
      "count   10.000000  10.000000  10.000000           10.000000    10.000000  \n",
      "mean     0.382563   0.609060   0.418813            0.198624     0.695855  \n",
      "std      0.175184   0.140752   0.115078            0.086483     0.099710  \n",
      "min      0.179311   0.438974   0.273319            0.061859     0.563684  \n",
      "25%      0.200141   0.509016   0.350423            0.136535     0.608904  \n",
      "50%      0.432992   0.575578   0.384937            0.230784     0.697435  \n",
      "75%      0.499918   0.723777   0.500305            0.252424     0.746201  \n",
      "max      0.664822   0.829456   0.606169            0.300685     0.843772  \n"
     ]
    }
   ],
   "source": [
    "get_mf0_scores(\n",
    "    '../comparisons/algorithm_outputs/su/duan/',\n",
    "    '../comparisons/Su_multif0/gt_F0/',\n",
    "    'su', 'duan'\n",
    ")"
   ]
  },
  {
   "cell_type": "code",
   "execution_count": 10,
   "metadata": {
    "collapsed": false
   },
   "outputs": [
    {
     "name": "stdout",
     "output_type": "stream",
     "text": [
      "../comparisons/algorithm_outputs/su/benetos/PQ02_Elgar.txt\n",
      "PQ02_Elgar\n",
      "../comparisons/algorithm_outputs/su/benetos/PQ03_Farranc.txt\n",
      "PQ03_Farranc\n",
      "../comparisons/algorithm_outputs/su/benetos/PS01_Beethoven.txt\n",
      "PS01_Beethoven\n",
      "../comparisons/algorithm_outputs/su/benetos/PS02_Chopin.txt\n",
      "PS02_Chopin\n",
      "../comparisons/algorithm_outputs/su/benetos/PS03_Mozart.txt\n",
      "PS03_Mozart\n",
      "../comparisons/algorithm_outputs/su/benetos/SQ01_Beethoven.txt\n",
      "SQ01_Beethoven\n",
      "../comparisons/algorithm_outputs/su/benetos/SQ02_Janacek.txt\n",
      "SQ02_Janacek\n",
      "../comparisons/algorithm_outputs/su/benetos/SQ03_Schubert.txt\n",
      "SQ03_Schubert\n",
      "../comparisons/algorithm_outputs/su/benetos/VS01_Schumann.txt\n",
      "VS01_Schumann\n",
      "../comparisons/algorithm_outputs/su/benetos/VS04_Franck.txt\n",
      "VS04_Franck\n",
      "        Accuracy  Chroma Accuracy  Chroma False Alarm Error  \\\n",
      "count  10.000000        10.000000                 10.000000   \n",
      "mean    0.355545         0.426031                  0.164506   \n",
      "std     0.051333         0.051726                  0.161800   \n",
      "min     0.269857         0.338664                  0.001187   \n",
      "25%     0.322989         0.394682                  0.028878   \n",
      "50%     0.364032         0.430315                  0.119252   \n",
      "75%     0.387843         0.447614                  0.245541   \n",
      "max     0.434696         0.533492                  0.502131   \n",
      "\n",
      "       Chroma Miss Error  Chroma Precision  Chroma Recall  \\\n",
      "count          10.000000         10.000000      10.000000   \n",
      "mean            0.336536          0.698481       0.547207   \n",
      "std             0.145235          0.125392       0.111003   \n",
      "min             0.110613          0.524831       0.367116   \n",
      "25%             0.254880          0.596809       0.468671   \n",
      "50%             0.325793          0.676194       0.564543   \n",
      "75%             0.432393          0.815946       0.611049   \n",
      "max             0.561971          0.877450       0.730312   \n",
      "\n",
      "       Chroma Substitution Error  Chroma Total Error  False Alarm Error  \\\n",
      "count                  10.000000           10.000000          10.000000   \n",
      "mean                    0.116257            0.617299           0.164506   \n",
      "std                     0.045244            0.089586           0.161800   \n",
      "min                     0.056513            0.470137           0.001187   \n",
      "25%                     0.075190            0.559526           0.028878   \n",
      "50%                     0.122684            0.605696           0.119252   \n",
      "75%                     0.154295            0.675127           0.245541   \n",
      "max                     0.178065            0.771820           0.502131   \n",
      "\n",
      "       Miss Error  Precision     Recall  Substitution Error  Total Error  \n",
      "count   10.000000  10.000000  10.000000           10.000000    10.000000  \n",
      "mean     0.336536   0.613793   0.480070            0.183394     0.684436  \n",
      "std      0.145235   0.125494   0.106028            0.063667     0.098019  \n",
      "min      0.110613   0.445174   0.326561            0.081385     0.548368  \n",
      "25%      0.254880   0.518279   0.397332            0.138808     0.613870  \n",
      "50%      0.325793   0.589266   0.478306            0.193552     0.673292  \n",
      "75%      0.432393   0.719192   0.553348            0.234255     0.729432  \n",
      "max      0.561971   0.824622   0.663226            0.258056     0.842098  \n"
     ]
    }
   ],
   "source": [
    "get_mf0_scores(\n",
    "    '../comparisons/algorithm_outputs/su/benetos/',\n",
    "    '../comparisons/Su_multif0/gt_F0/',\n",
    "    'su', 'benetos'\n",
    ")"
   ]
  },
  {
   "cell_type": "code",
   "execution_count": 48,
   "metadata": {
    "collapsed": false
   },
   "outputs": [
    {
     "name": "stdout",
     "output_type": "stream",
     "text": [
      "../comparisons/algorithm_outputs/mdb_test/duan/AClassicEducation_NightOwl_multif0_MIXmirexf0.txt\n",
      "AClassicEducation_NightOwl\n",
      "../comparisons/algorithm_outputs/mdb_test/duan/Auctioneer_OurFutureFaces_multif0_MIXmirexf0.txt\n",
      "Auctioneer_OurFutureFaces\n",
      "../comparisons/algorithm_outputs/mdb_test/duan/CelestialShore_DieForUs_multif0_MIX16mirexf0.txt\n",
      "CelestialShore_DieForUs\n",
      "../comparisons/algorithm_outputs/mdb_test/duan/ChrisJacoby_BoothShotLincoln_multif0_MIX16mirexf0.txt\n",
      "ChrisJacoby_BoothShotLincoln\n",
      "../comparisons/algorithm_outputs/mdb_test/duan/ChrisJacoby_PigsFoot_multif0_MIX16mirexf0.txt\n",
      "ChrisJacoby_PigsFoot\n",
      "../comparisons/algorithm_outputs/mdb_test/duan/Creepoid_OldTree_multif0_MIX16mirexf0.txt\n",
      "Creepoid_OldTree\n",
      "../comparisons/algorithm_outputs/mdb_test/duan/Debussy_LenfantProdigue_multif0_MIX16mirexf0.txt\n",
      "Debussy_LenfantProdigue\n",
      "../comparisons/algorithm_outputs/mdb_test/duan/Grants_PunchDrunk_multif0_MIX16mirexf0.txt\n",
      "Grants_PunchDrunk\n",
      "../comparisons/algorithm_outputs/mdb_test/duan/MatthewEntwistle_DontYouEver_multif0_MIX16mirexf0.txt\n",
      "MatthewEntwistle_DontYouEver\n",
      "../comparisons/algorithm_outputs/mdb_test/duan/MatthewEntwistle_FairerHopes_multif0_MIX16mirexf0.txt\n",
      "MatthewEntwistle_FairerHopes\n",
      "../comparisons/algorithm_outputs/mdb_test/duan/MatthewEntwistle_ImpressionsOfSaturn_multif0_MIX16mirexf0.txt\n",
      "MatthewEntwistle_ImpressionsOfSaturn\n",
      "../comparisons/algorithm_outputs/mdb_test/duan/MatthewEntwistle_Lontano_multif0_MIX16mirexf0.txt\n",
      "MatthewEntwistle_Lontano\n",
      "../comparisons/algorithm_outputs/mdb_test/duan/MatthewEntwistle_TheArch_multif0_MIX16mirexf0.txt\n",
      "MatthewEntwistle_TheArch\n",
      "../comparisons/algorithm_outputs/mdb_test/duan/MatthewEntwistle_TheFlaxenField_multif0_MIX16mirexf0.txt\n",
      "MatthewEntwistle_TheFlaxenField\n",
      "../comparisons/algorithm_outputs/mdb_test/duan/Mozart_DiesBildnis_multif0_MIX16mirexf0.txt\n",
      "Mozart_DiesBildnis\n",
      "../comparisons/algorithm_outputs/mdb_test/duan/MusicDelta_FusionJazz_multif0_MIX16mirexf0.txt\n",
      "MusicDelta_FusionJazz\n",
      "../comparisons/algorithm_outputs/mdb_test/duan/MusicDelta_Gospel_multif0_MIX16mirexf0.txt\n",
      "MusicDelta_Gospel\n",
      "../comparisons/algorithm_outputs/mdb_test/duan/MusicDelta_Pachelbel_multif0_MIX16mirexf0.txt\n",
      "MusicDelta_Pachelbel\n",
      "../comparisons/algorithm_outputs/mdb_test/duan/MusicDelta_SwingJazz_multif0_MIX16mirexf0.txt\n",
      "MusicDelta_SwingJazz\n",
      "../comparisons/algorithm_outputs/mdb_test/duan/Phoenix_BrokenPledgeChicagoReel_multif0_MIX16mirexf0.txt\n",
      "Phoenix_BrokenPledgeChicagoReel\n",
      "../comparisons/algorithm_outputs/mdb_test/duan/Phoenix_ColliersDaughter_multif0_MIX16mirexf0.txt\n",
      "Phoenix_ColliersDaughter\n",
      "../comparisons/algorithm_outputs/mdb_test/duan/Phoenix_ElzicsFarewell_multif0_MIX16mirexf0.txt\n",
      "Phoenix_ElzicsFarewell\n",
      "../comparisons/algorithm_outputs/mdb_test/duan/Phoenix_LarkOnTheStrandDrummondCastle_multif0_MIX16mirexf0.txt\n",
      "Phoenix_LarkOnTheStrandDrummondCastle\n",
      "../comparisons/algorithm_outputs/mdb_test/duan/Phoenix_ScotchMorris_multif0_MIX16mirexf0.txt\n",
      "Phoenix_ScotchMorris\n",
      "../comparisons/algorithm_outputs/mdb_test/duan/Phoenix_SeanCaughlinsTheScartaglen_multif0_MIX16mirexf0.txt\n",
      "Phoenix_SeanCaughlinsTheScartaglen\n",
      "../comparisons/algorithm_outputs/mdb_test/duan/PortStWillow_StayEven_multif0_MIX16mirexf0.txt\n",
      "PortStWillow_StayEven\n",
      "../comparisons/algorithm_outputs/mdb_test/duan/Schubert_Erstarrung_multif0_MIX16mirexf0.txt\n",
      "Schubert_Erstarrung\n",
      "../comparisons/algorithm_outputs/mdb_test/duan/StrandOfOaks_Spacestation_multif0_MIX16mirexf0.txt\n",
      "StrandOfOaks_Spacestation\n",
      "        Accuracy  Chroma Accuracy  Chroma False Alarm Error  \\\n",
      "count  28.000000        28.000000                 28.000000   \n",
      "mean    0.234573         0.300990                  1.299157   \n",
      "std     0.079084         0.093897                  0.815406   \n",
      "min     0.141945         0.172200                  0.007972   \n",
      "25%     0.177180         0.244662                  0.737777   \n",
      "50%     0.216220         0.262706                  1.444867   \n",
      "75%     0.252929         0.350784                  1.837203   \n",
      "max     0.475007         0.579919                  3.274275   \n",
      "\n",
      "       Chroma Miss Error  Chroma Precision  Chroma Recall  \\\n",
      "count          28.000000         28.000000      28.000000   \n",
      "mean            0.162815          0.380647       0.691894   \n",
      "std             0.172366          0.166541       0.169535   \n",
      "min             0.004699          0.181327       0.231270   \n",
      "25%             0.022202          0.272011       0.631550   \n",
      "50%             0.108607          0.310687       0.724759   \n",
      "75%             0.250593          0.428392       0.794783   \n",
      "max             0.728492          0.856377       0.916640   \n",
      "\n",
      "       Chroma Substitution Error  Chroma Total Error  False Alarm Error  \\\n",
      "count                  28.000000           28.000000          28.000000   \n",
      "mean                    0.145291            1.607263           1.299157   \n",
      "std                     0.057814            0.722200           0.815406   \n",
      "min                     0.040238            0.375604           0.007972   \n",
      "25%                     0.108078            1.073599           0.737777   \n",
      "50%                     0.131794            1.560131           1.444867   \n",
      "75%                     0.180434            2.064126           1.837203   \n",
      "max                     0.288276            3.500454           3.274275   \n",
      "\n",
      "       Miss Error  Precision     Recall  Substitution Error  Total Error  \n",
      "count   28.000000  28.000000  28.000000           28.000000    28.000000  \n",
      "mean     0.162815   0.310804   0.572218            0.264967     1.726939  \n",
      "std      0.172366   0.138573   0.164037            0.104871     0.721298  \n",
      "min      0.004699   0.161075   0.176461            0.095047     0.454393  \n",
      "25%      0.022202   0.237047   0.463906            0.194605     1.262510  \n",
      "50%      0.108607   0.271484   0.611599            0.239723     1.702437  \n",
      "75%      0.250593   0.332117   0.691257            0.324554     2.227645  \n",
      "max      0.728492   0.751344   0.817280            0.526187     3.586879  \n"
     ]
    }
   ],
   "source": [
    "import numpy as np\n",
    "get_mf0_scores(\n",
    "    '../comparisons/algorithm_outputs/mdb_test/duan/',\n",
    "    '../comparisons/mdb_test/',\n",
    "    'mdb_test', 'duan'\n",
    ")"
   ]
  },
  {
   "cell_type": "code",
   "execution_count": 43,
   "metadata": {
    "collapsed": false
   },
   "outputs": [
    {
     "name": "stdout",
     "output_type": "stream",
     "text": [
      "../comparisons/algorithm_outputs/mdb_test/benetos/AClassicEducation_NightOwl_multif0_MIX.wav.txt\n",
      "AClassicEducation_NightOwl\n",
      "../comparisons/algorithm_outputs/mdb_test/benetos/Auctioneer_OurFutureFaces_multif0_MIX.wav.txt\n",
      "Auctioneer_OurFutureFaces\n",
      "../comparisons/algorithm_outputs/mdb_test/benetos/CelestialShore_DieForUs_multif0_MIX16.wav.txt\n",
      "CelestialShore_DieForUs\n",
      "../comparisons/algorithm_outputs/mdb_test/benetos/ChrisJacoby_BoothShotLincoln_multif0_MIX16.wav.txt\n",
      "ChrisJacoby_BoothShotLincoln\n",
      "../comparisons/algorithm_outputs/mdb_test/benetos/ChrisJacoby_PigsFoot_multif0_MIX16.wav.txt\n",
      "ChrisJacoby_PigsFoot\n",
      "../comparisons/algorithm_outputs/mdb_test/benetos/Creepoid_OldTree_multif0_MIX16.wav.txt\n",
      "Creepoid_OldTree\n",
      "../comparisons/algorithm_outputs/mdb_test/benetos/Debussy_LenfantProdigue_multif0_MIX16.wav.txt\n",
      "Debussy_LenfantProdigue\n",
      "../comparisons/algorithm_outputs/mdb_test/benetos/Grants_PunchDrunk_multif0_MIX16.wav.txt\n",
      "Grants_PunchDrunk\n",
      "../comparisons/algorithm_outputs/mdb_test/benetos/MatthewEntwistle_DontYouEver_multif0_MIX16.wav.txt\n",
      "MatthewEntwistle_DontYouEver\n",
      "../comparisons/algorithm_outputs/mdb_test/benetos/MatthewEntwistle_FairerHopes_multif0_MIX16.wav.txt\n",
      "MatthewEntwistle_FairerHopes\n",
      "../comparisons/algorithm_outputs/mdb_test/benetos/MatthewEntwistle_ImpressionsOfSaturn_multif0_MIX16.wav.txt\n",
      "MatthewEntwistle_ImpressionsOfSaturn\n",
      "../comparisons/algorithm_outputs/mdb_test/benetos/MatthewEntwistle_Lontano_multif0_MIX16.wav.txt\n",
      "MatthewEntwistle_Lontano\n",
      "../comparisons/algorithm_outputs/mdb_test/benetos/MatthewEntwistle_TheArch_multif0_MIX16.wav.txt\n",
      "MatthewEntwistle_TheArch\n",
      "../comparisons/algorithm_outputs/mdb_test/benetos/MatthewEntwistle_TheFlaxenField_multif0_MIX16.wav.txt\n",
      "MatthewEntwistle_TheFlaxenField\n",
      "../comparisons/algorithm_outputs/mdb_test/benetos/Mozart_DiesBildnis_multif0_MIX16.wav.txt\n",
      "Mozart_DiesBildnis\n",
      "../comparisons/algorithm_outputs/mdb_test/benetos/MusicDelta_FusionJazz_multif0_MIX16.wav.txt\n",
      "MusicDelta_FusionJazz\n",
      "../comparisons/algorithm_outputs/mdb_test/benetos/MusicDelta_Gospel_multif0_MIX16.wav.txt\n",
      "MusicDelta_Gospel\n",
      "../comparisons/algorithm_outputs/mdb_test/benetos/MusicDelta_Pachelbel_multif0_MIX16.wav.txt\n",
      "MusicDelta_Pachelbel\n",
      "../comparisons/algorithm_outputs/mdb_test/benetos/MusicDelta_SwingJazz_multif0_MIX16.wav.txt\n",
      "MusicDelta_SwingJazz\n",
      "../comparisons/algorithm_outputs/mdb_test/benetos/Phoenix_BrokenPledgeChicagoReel_multif0_MIX16.wav.txt\n",
      "Phoenix_BrokenPledgeChicagoReel\n",
      "../comparisons/algorithm_outputs/mdb_test/benetos/Phoenix_ColliersDaughter_multif0_MIX16.wav.txt\n",
      "Phoenix_ColliersDaughter\n",
      "../comparisons/algorithm_outputs/mdb_test/benetos/Phoenix_ElzicsFarewell_multif0_MIX16.wav.txt\n",
      "Phoenix_ElzicsFarewell\n",
      "../comparisons/algorithm_outputs/mdb_test/benetos/Phoenix_LarkOnTheStrandDrummondCastle_multif0_MIX16.wav.txt\n",
      "Phoenix_LarkOnTheStrandDrummondCastle\n",
      "../comparisons/algorithm_outputs/mdb_test/benetos/Phoenix_ScotchMorris_multif0_MIX16.wav.txt\n",
      "Phoenix_ScotchMorris\n",
      "../comparisons/algorithm_outputs/mdb_test/benetos/Phoenix_SeanCaughlinsTheScartaglen_multif0_MIX16.wav.txt\n",
      "Phoenix_SeanCaughlinsTheScartaglen\n",
      "../comparisons/algorithm_outputs/mdb_test/benetos/PortStWillow_StayEven_multif0_MIX16.wav.txt\n",
      "PortStWillow_StayEven\n",
      "../comparisons/algorithm_outputs/mdb_test/benetos/Schubert_Erstarrung_multif0_MIX16.wav.txt\n",
      "Schubert_Erstarrung\n",
      "../comparisons/algorithm_outputs/mdb_test/benetos/StrandOfOaks_Spacestation_multif0_MIX16.wav.txt\n",
      "StrandOfOaks_Spacestation\n",
      "        Accuracy  Chroma Accuracy  Chroma False Alarm Error  \\\n",
      "count  28.000000        28.000000                 28.000000   \n",
      "mean    0.297041         0.350569                  0.509618   \n",
      "std     0.114145         0.128112                  0.505009   \n",
      "min     0.114514         0.136181                  0.002198   \n",
      "25%     0.211810         0.297512                  0.174596   \n",
      "50%     0.313663         0.359800                  0.278075   \n",
      "75%     0.355833         0.419790                  0.817975   \n",
      "max     0.501325         0.603369                  1.824534   \n",
      "\n",
      "       Chroma Miss Error  Chroma Precision  Chroma Recall  \\\n",
      "count          28.000000         28.000000      28.000000   \n",
      "mean            0.268143          0.518779       0.562402   \n",
      "std             0.205327          0.162582       0.190007   \n",
      "min             0.014535          0.163393       0.142767   \n",
      "25%             0.128984          0.428873       0.463485   \n",
      "50%             0.222789          0.521682       0.564208   \n",
      "75%             0.365064          0.642857       0.713041   \n",
      "max             0.814629          0.809788       0.881841   \n",
      "\n",
      "       Chroma Substitution Error  Chroma Total Error  False Alarm Error  \\\n",
      "count                  28.000000           28.000000          28.000000   \n",
      "mean                    0.169455            0.947216           0.509618   \n",
      "std                     0.097533            0.466312           0.505009   \n",
      "min                     0.036437            0.365887           0.002198   \n",
      "25%                     0.109309            0.662243           0.174596   \n",
      "50%                     0.132846            0.832566           0.278075   \n",
      "75%                     0.219364            1.021717           0.817975   \n",
      "max                     0.478781            2.374686           1.824534   \n",
      "\n",
      "       Miss Error  Precision     Recall  Substitution Error  Total Error  \n",
      "count   28.000000  28.000000  28.000000           28.000000    28.000000  \n",
      "mean     0.268143   0.458944   0.495029            0.236829     1.014589  \n",
      "std      0.205327   0.156693   0.180063            0.123035     0.473305  \n",
      "min      0.014535   0.140068   0.122267            0.039791     0.445080  \n",
      "25%      0.128984   0.346308   0.389915            0.155304     0.710778  \n",
      "50%      0.222789   0.453341   0.492961            0.200224     0.879363  \n",
      "75%      0.365064   0.585601   0.628085            0.309112     1.138095  \n",
      "max      0.814629   0.718565   0.838000            0.542999     2.438905  \n"
     ]
    }
   ],
   "source": [
    "get_mf0_scores(\n",
    "    '../comparisons/algorithm_outputs/mdb_test/benetos/',\n",
    "    '../comparisons/mdb_test/',\n",
    "    'mdb_test', 'benetos'\n",
    ")"
   ]
  },
  {
   "cell_type": "code",
   "execution_count": 44,
   "metadata": {
    "collapsed": true
   },
   "outputs": [],
   "source": [
    "fpath1 = '../comparisons/algorithm_outputs/mdb_test/benetos/Phoenix_SeanCaughlinsTheScartaglen_multif0_MIX16.wav.txt'\n",
    "fpath2 = '../comparisons/mdb_test/Phoenix_SeanCaughlinsTheScartaglen.txt'\n",
    "\n",
    "est_times, est_freqs = mir_eval.io.load_ragged_time_series(fpath1)\n",
    "ref_times, ref_freqs = mir_eval.io.load_ragged_time_series(fpath2)"
   ]
  },
  {
   "cell_type": "code",
   "execution_count": 45,
   "metadata": {
    "collapsed": false
   },
   "outputs": [],
   "source": [
    "def get_tf(times, freqs):\n",
    "    t_array = []\n",
    "    f_array = []\n",
    "    for t, freqs in zip(times, freqs):\n",
    "        for f in freqs:\n",
    "            t_array.append(t)\n",
    "            f_array.append(f)\n",
    "    return t_array, f_array"
   ]
  },
  {
   "cell_type": "code",
   "execution_count": 46,
   "metadata": {
    "collapsed": false
   },
   "outputs": [
    {
     "data": {
      "image/png": "[encoded data removed]",
      "text/plain": [
       "<matplotlib.figure.Figure at 0x10d871ed0>"
      ]
     },
     "metadata": {},
     "output_type": "display_data"
    }
   ],
   "source": [
    "est_t, est_f = get_tf(est_times, est_freqs)\n",
    "ref_t, ref_f = get_tf(ref_times, ref_freqs)\n",
    "\n",
    "import matplotlib.pyplot as plt\n",
    "%matplotlib inline\n",
    "plt.figure(figsize=(15, 7))\n",
    "plt.plot(est_t, est_f, '.r')\n",
    "plt.plot(ref_t, ref_f, '.b')\n",
    "plt.show()"
   ]
  },
  {
   "cell_type": "code",
   "execution_count": 13,
   "metadata": {
    "collapsed": false
   },
   "outputs": [
    {
     "data": {
      "text/plain": [
       "array([], dtype=float64)"
      ]
     },
     "execution_count": 13,
     "metadata": {},
     "output_type": "execute_result"
    }
   ],
   "source": [
    "freqs"
   ]
  },
  {
   "cell_type": "code",
   "execution_count": null,
   "metadata": {
    "collapsed": true
   },
   "outputs": [],
   "source": []
  }
 ],
 "metadata": {
  "kernelspec": {
   "display_name": "Python 2",
   "language": "python",
   "name": "python2"
  },
  "language_info": {
   "codemirror_mode": {
    "name": "ipython",
    "version": 2
   },
   "file_extension": ".py",
   "mimetype": "text/x-python",
   "name": "python",
   "nbconvert_exporter": "python",
   "pygments_lexer": "ipython2",
   "version": "2.7.9"
  }
 },
 "nbformat": 4,
 "nbformat_minor": 1
}
